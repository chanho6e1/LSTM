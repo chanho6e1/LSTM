{
 "cells": [
  {
   "cell_type": "code",
   "execution_count": 2,
   "metadata": {},
   "outputs": [],
   "source": [
    "import pandas as pd\n",
    "import urllib.request\n",
    "%matplotlib inline\n",
    "import matplotlib.pyplot as plt\n",
    "import re\n",
    "from konlpy.tag import Okt\n",
    "from tensorflow.keras.preprocessing.text import Tokenizer\n",
    "import numpy as np\n",
    "from tensorflow.keras.preprocessing.sequence import pad_sequences"
   ]
  },
  {
   "cell_type": "code",
   "execution_count": 3,
   "metadata": {},
   "outputs": [],
   "source": [
    "train_data = pd.read_table('train.txt')\n",
    "test_data = pd.read_table('test.txt')"
   ]
  },
  {
   "cell_type": "code",
   "execution_count": 4,
   "metadata": {},
   "outputs": [
    {
     "name": "stdout",
     "output_type": "stream",
     "text": [
      "훈련용 데이터 개수 : 2900\n"
     ]
    },
    {
     "data": {
      "text/html": [
       "<div>\n",
       "<style scoped>\n",
       "    .dataframe tbody tr th:only-of-type {\n",
       "        vertical-align: middle;\n",
       "    }\n",
       "\n",
       "    .dataframe tbody tr th {\n",
       "        vertical-align: top;\n",
       "    }\n",
       "\n",
       "    .dataframe thead th {\n",
       "        text-align: right;\n",
       "    }\n",
       "</style>\n",
       "<table border=\"1\" class=\"dataframe\">\n",
       "  <thead>\n",
       "    <tr style=\"text-align: right;\">\n",
       "      <th></th>\n",
       "      <th>Document</th>\n",
       "      <th>label</th>\n",
       "    </tr>\n",
       "  </thead>\n",
       "  <tbody>\n",
       "    <tr>\n",
       "      <th>0</th>\n",
       "      <td>넘 두렵다ㅠㅠㅠㅠ</td>\n",
       "      <td>4</td>\n",
       "    </tr>\n",
       "    <tr>\n",
       "      <th>1</th>\n",
       "      <td>아놔 코 막혀</td>\n",
       "      <td>2</td>\n",
       "    </tr>\n",
       "    <tr>\n",
       "      <th>2</th>\n",
       "      <td>교수님 진짜 밉다...</td>\n",
       "      <td>2</td>\n",
       "    </tr>\n",
       "    <tr>\n",
       "      <th>3</th>\n",
       "      <td>다이어트 하니까 약속 나갈 때마다 곤욕이닾</td>\n",
       "      <td>1</td>\n",
       "    </tr>\n",
       "    <tr>\n",
       "      <th>4</th>\n",
       "      <td>인간수업 광고 너무 징그러워..</td>\n",
       "      <td>5</td>\n",
       "    </tr>\n",
       "  </tbody>\n",
       "</table>\n",
       "</div>"
      ],
      "text/plain": [
       "                  Document  label\n",
       "0                넘 두렵다ㅠㅠㅠㅠ      4\n",
       "1                  아놔 코 막혀      2\n",
       "2             교수님 진짜 밉다...      2\n",
       "3  다이어트 하니까 약속 나갈 때마다 곤욕이닾      1\n",
       "4        인간수업 광고 너무 징그러워..      5"
      ]
     },
     "execution_count": 4,
     "metadata": {},
     "output_type": "execute_result"
    }
   ],
   "source": [
    "print('훈련용 데이터 개수 :',len(train_data))\n",
    "train_data[:5]"
   ]
  },
  {
   "cell_type": "code",
   "execution_count": 5,
   "metadata": {},
   "outputs": [
    {
     "data": {
      "text/plain": [
       "(2892, 6)"
      ]
     },
     "execution_count": 5,
     "metadata": {},
     "output_type": "execute_result"
    }
   ],
   "source": [
    "train_data['Document'].nunique(), train_data['label'].nunique()"
   ]
  },
  {
   "cell_type": "code",
   "execution_count": 6,
   "metadata": {},
   "outputs": [],
   "source": [
    "train_data.drop_duplicates(subset=['Document'], inplace=True)"
   ]
  },
  {
   "cell_type": "code",
   "execution_count": 7,
   "metadata": {},
   "outputs": [
    {
     "name": "stdout",
     "output_type": "stream",
     "text": [
      "총 샘플의 수 : 2892\n"
     ]
    }
   ],
   "source": [
    "print('총 샘플의 수 :',len(train_data))"
   ]
  },
  {
   "cell_type": "code",
   "execution_count": 8,
   "metadata": {},
   "outputs": [
    {
     "data": {
      "text/plain": [
       "<matplotlib.axes._subplots.AxesSubplot at 0x25a3e850e08>"
      ]
     },
     "execution_count": 8,
     "metadata": {},
     "output_type": "execute_result"
    },
    {
     "data": {
      "image/png": "[encoded data removed]",
      "text/plain": [
       "<Figure size 432x288 with 1 Axes>"
      ]
     },
     "metadata": {
      "needs_background": "light"
     },
     "output_type": "display_data"
    }
   ],
   "source": [
    "train_data['label'].value_counts().plot(kind = 'bar')"
   ]
  },
  {
   "cell_type": "code",
   "execution_count": 9,
   "metadata": {},
   "outputs": [
    {
     "name": "stdout",
     "output_type": "stream",
     "text": [
      "   label  count\n",
      "0      0    518\n",
      "1      1    560\n",
      "2      2    558\n",
      "3      3    419\n",
      "4      4    349\n",
      "5      5    488\n"
     ]
    }
   ],
   "source": [
    "print(train_data.groupby('label').size().reset_index(name = 'count'))"
   ]
  },
  {
   "cell_type": "code",
   "execution_count": 10,
   "metadata": {},
   "outputs": [
    {
     "name": "stdout",
     "output_type": "stream",
     "text": [
      "False\n"
     ]
    }
   ],
   "source": [
    "print(train_data.isnull().values.any())"
   ]
  },
  {
   "cell_type": "code",
   "execution_count": 11,
   "metadata": {},
   "outputs": [
    {
     "name": "stdout",
     "output_type": "stream",
     "text": [
      "Document    0\n",
      "label       0\n",
      "dtype: int64\n"
     ]
    }
   ],
   "source": [
    "print(train_data.isnull().sum())"
   ]
  },
  {
   "cell_type": "code",
   "execution_count": 12,
   "metadata": {},
   "outputs": [
    {
     "data": {
      "text/html": [
       "<div>\n",
       "<style scoped>\n",
       "    .dataframe tbody tr th:only-of-type {\n",
       "        vertical-align: middle;\n",
       "    }\n",
       "\n",
       "    .dataframe tbody tr th {\n",
       "        vertical-align: top;\n",
       "    }\n",
       "\n",
       "    .dataframe thead th {\n",
       "        text-align: right;\n",
       "    }\n",
       "</style>\n",
       "<table border=\"1\" class=\"dataframe\">\n",
       "  <thead>\n",
       "    <tr style=\"text-align: right;\">\n",
       "      <th></th>\n",
       "      <th>Document</th>\n",
       "      <th>label</th>\n",
       "    </tr>\n",
       "  </thead>\n",
       "  <tbody>\n",
       "  </tbody>\n",
       "</table>\n",
       "</div>"
      ],
      "text/plain": [
       "Empty DataFrame\n",
       "Columns: [Document, label]\n",
       "Index: []"
      ]
     },
     "execution_count": 12,
     "metadata": {},
     "output_type": "execute_result"
    }
   ],
   "source": [
    "train_data.loc[train_data.Document.isnull()]"
   ]
  },
  {
   "cell_type": "code",
   "execution_count": 13,
   "metadata": {},
   "outputs": [
    {
     "name": "stdout",
     "output_type": "stream",
     "text": [
      "False\n"
     ]
    }
   ],
   "source": [
    "train_data = train_data.dropna(how = 'any') # Null 값이 존재하는 행 제거\n",
    "print(train_data.isnull().values.any())"
   ]
  },
  {
   "cell_type": "code",
   "execution_count": 14,
   "metadata": {},
   "outputs": [
    {
     "name": "stdout",
     "output_type": "stream",
     "text": [
      "2892\n"
     ]
    }
   ],
   "source": [
    "print(len(train_data))"
   ]
  },
  {
   "cell_type": "code",
   "execution_count": 15,
   "metadata": {},
   "outputs": [
    {
     "data": {
      "text/plain": [
       "'do you expect people to read the FAQ etc and actually accept hard atheism'"
      ]
     },
     "execution_count": 15,
     "metadata": {},
     "output_type": "execute_result"
    }
   ],
   "source": [
    "text = 'do!!! you expect... people~ to~ read~ the FAQ, etc. and actually accept hard~! atheism?@@'\n",
    "re.sub(r'[^a-zA-Z ]', '', text) #알파벳과 공백을 제외하고 모두 제거"
   ]
  },
  {
   "cell_type": "code",
   "execution_count": 16,
   "metadata": {},
   "outputs": [
    {
     "data": {
      "text/html": [
       "<div>\n",
       "<style scoped>\n",
       "    .dataframe tbody tr th:only-of-type {\n",
       "        vertical-align: middle;\n",
       "    }\n",
       "\n",
       "    .dataframe tbody tr th {\n",
       "        vertical-align: top;\n",
       "    }\n",
       "\n",
       "    .dataframe thead th {\n",
       "        text-align: right;\n",
       "    }\n",
       "</style>\n",
       "<table border=\"1\" class=\"dataframe\">\n",
       "  <thead>\n",
       "    <tr style=\"text-align: right;\">\n",
       "      <th></th>\n",
       "      <th>Document</th>\n",
       "      <th>label</th>\n",
       "    </tr>\n",
       "  </thead>\n",
       "  <tbody>\n",
       "    <tr>\n",
       "      <th>0</th>\n",
       "      <td>넘 두렵다ㅠㅠㅠㅠ</td>\n",
       "      <td>4</td>\n",
       "    </tr>\n",
       "    <tr>\n",
       "      <th>1</th>\n",
       "      <td>아놔 코 막혀</td>\n",
       "      <td>2</td>\n",
       "    </tr>\n",
       "    <tr>\n",
       "      <th>2</th>\n",
       "      <td>교수님 진짜 밉다</td>\n",
       "      <td>2</td>\n",
       "    </tr>\n",
       "    <tr>\n",
       "      <th>3</th>\n",
       "      <td>다이어트 하니까 약속 나갈 때마다 곤욕이닾</td>\n",
       "      <td>1</td>\n",
       "    </tr>\n",
       "    <tr>\n",
       "      <th>4</th>\n",
       "      <td>인간수업 광고 너무 징그러워</td>\n",
       "      <td>5</td>\n",
       "    </tr>\n",
       "  </tbody>\n",
       "</table>\n",
       "</div>"
      ],
      "text/plain": [
       "                  Document  label\n",
       "0                넘 두렵다ㅠㅠㅠㅠ      4\n",
       "1                  아놔 코 막혀      2\n",
       "2                교수님 진짜 밉다      2\n",
       "3  다이어트 하니까 약속 나갈 때마다 곤욕이닾      1\n",
       "4          인간수업 광고 너무 징그러워      5"
      ]
     },
     "execution_count": 16,
     "metadata": {},
     "output_type": "execute_result"
    }
   ],
   "source": [
    "train_data['Document'] = train_data['Document'].str.replace(\"[^ㄱ-ㅎㅏ-ㅣ가-힣 ]\",\"\")\n",
    "# 한글과 공백을 제외하고 모두 제거\n",
    "train_data[:5]"
   ]
  },
  {
   "cell_type": "code",
   "execution_count": 17,
   "metadata": {},
   "outputs": [
    {
     "name": "stdout",
     "output_type": "stream",
     "text": [
      "Document    0\n",
      "label       0\n",
      "dtype: int64\n"
     ]
    }
   ],
   "source": [
    "train_data['Document'].replace('', np.nan, inplace=True)\n",
    "print(train_data.isnull().sum())"
   ]
  },
  {
   "cell_type": "code",
   "execution_count": 18,
   "metadata": {},
   "outputs": [
    {
     "data": {
      "text/html": [
       "<div>\n",
       "<style scoped>\n",
       "    .dataframe tbody tr th:only-of-type {\n",
       "        vertical-align: middle;\n",
       "    }\n",
       "\n",
       "    .dataframe tbody tr th {\n",
       "        vertical-align: top;\n",
       "    }\n",
       "\n",
       "    .dataframe thead th {\n",
       "        text-align: right;\n",
       "    }\n",
       "</style>\n",
       "<table border=\"1\" class=\"dataframe\">\n",
       "  <thead>\n",
       "    <tr style=\"text-align: right;\">\n",
       "      <th></th>\n",
       "      <th>Document</th>\n",
       "      <th>label</th>\n",
       "    </tr>\n",
       "  </thead>\n",
       "  <tbody>\n",
       "  </tbody>\n",
       "</table>\n",
       "</div>"
      ],
      "text/plain": [
       "Empty DataFrame\n",
       "Columns: [Document, label]\n",
       "Index: []"
      ]
     },
     "execution_count": 18,
     "metadata": {},
     "output_type": "execute_result"
    }
   ],
   "source": [
    "train_data.loc[train_data.Document.isnull()][:5]"
   ]
  },
  {
   "cell_type": "code",
   "execution_count": 19,
   "metadata": {},
   "outputs": [
    {
     "name": "stdout",
     "output_type": "stream",
     "text": [
      "2892\n"
     ]
    }
   ],
   "source": [
    "train_data = train_data.dropna(how = 'any')\n",
    "print(len(train_data))"
   ]
  },
  {
   "cell_type": "code",
   "execution_count": 20,
   "metadata": {},
   "outputs": [
    {
     "name": "stdout",
     "output_type": "stream",
     "text": [
      "전처리 후 테스트용 샘플의 개수 : 949\n"
     ]
    }
   ],
   "source": [
    "test_data.drop_duplicates(subset = ['Document'], inplace=True) # document 열에서 중복인 내용이 있다면 중복 제거\n",
    "test_data['Document'] = test_data['Document'].str.replace(\"[^ㄱ-ㅎㅏ-ㅣ가-힣 ]\",\"\") # 정규 표현식 수행\n",
    "test_data['Document'].replace('', np.nan, inplace=True) # 공백은 Null 값으로 변경\n",
    "test_data = test_data.dropna(how='any') # Null 값 제거\n",
    "print('전처리 후 테스트용 샘플의 개수 :',len(test_data))"
   ]
  },
  {
   "cell_type": "code",
   "execution_count": 21,
   "metadata": {},
   "outputs": [],
   "source": [
    "stopwords = ['의','가','이','은','들','는','좀','잘','걍','과','도','를','으로','자','에','와','한','하다']"
   ]
  },
  {
   "cell_type": "code",
   "execution_count": 1,
   "metadata": {},
   "outputs": [
    {
     "ename": "NameError",
     "evalue": "name 'Okt' is not defined",
     "output_type": "error",
     "traceback": [
      "\u001b[1;31m---------------------------------------------------------------------------\u001b[0m",
      "\u001b[1;31mNameError\u001b[0m                                 Traceback (most recent call last)",
      "\u001b[1;32m<ipython-input-1-6dd103dbef6b>\u001b[0m in \u001b[0;36m<module>\u001b[1;34m\u001b[0m\n\u001b[1;32m----> 1\u001b[1;33m \u001b[0mokt\u001b[0m \u001b[1;33m=\u001b[0m \u001b[0mOkt\u001b[0m\u001b[1;33m(\u001b[0m\u001b[1;33m)\u001b[0m\u001b[1;33m\u001b[0m\u001b[1;33m\u001b[0m\u001b[0m\n\u001b[0m\u001b[0;32m      2\u001b[0m \u001b[1;31m#okt.morphs('와 이런 것도 영화라고 차라리 뮤직비디오를 만드는 게 나을 뻔', stem = True)\u001b[0m\u001b[1;33m\u001b[0m\u001b[1;33m\u001b[0m\u001b[1;33m\u001b[0m\u001b[0m\n",
      "\u001b[1;31mNameError\u001b[0m: name 'Okt' is not defined"
     ]
    }
   ],
   "source": [
    "okt = Okt()\n",
    "#okt.morphs('와 이런 것도 영화라고 차라리 뮤직비디오를 만드는 게 나을 뻔', stem = True)"
   ]
  },
  {
   "cell_type": "code",
   "execution_count": 23,
   "metadata": {},
   "outputs": [],
   "source": [
    "X_train = []\n",
    "for sentence in train_data['Document']:\n",
    "    temp_X = []\n",
    "    temp_X = okt.morphs(sentence, stem=True) # 토큰화\n",
    "    temp_X = [word for word in temp_X if not word in stopwords] # 불용어 제거\n",
    "    X_train.append(temp_X)"
   ]
  },
  {
   "cell_type": "code",
   "execution_count": 24,
   "metadata": {},
   "outputs": [
    {
     "name": "stdout",
     "output_type": "stream",
     "text": [
      "[['넘다', '두렵다', 'ㅠㅠㅠㅠ'], ['아', '놓다', '코', '막히다'], ['교수', '님', '진짜', '밉다'], ['다이어트', '약속', '나가다', '때', '마다', '곤욕', '닾'], ['인간', '수업', '광고', '너무', '징그럽다']]\n"
     ]
    }
   ],
   "source": [
    "print(X_train[:5])"
   ]
  },
  {
   "cell_type": "code",
   "execution_count": 25,
   "metadata": {},
   "outputs": [],
   "source": [
    "X_test = []\n",
    "for sentence in test_data['Document']:\n",
    "    temp_X = []\n",
    "    temp_X = okt.morphs(sentence, stem=True) # 토큰화\n",
    "    temp_X = [word for word in temp_X if not word in stopwords] # 불용어 제거\n",
    "    X_test.append(temp_X)"
   ]
  },
  {
   "cell_type": "code",
   "execution_count": 26,
   "metadata": {},
   "outputs": [],
   "source": [
    "tokenizer = Tokenizer()\n",
    "tokenizer.fit_on_texts(X_train)"
   ]
  },
  {
   "cell_type": "code",
   "execution_count": 27,
   "metadata": {},
   "outputs": [
    {
     "name": "stdout",
     "output_type": "stream",
     "text": [
      "{'너무': 1, '진짜': 2, '나': 3, '아': 4, '오다': 5, '내': 6, '보다': 7, '거': 8, '친구': 9, '사람': 10, '오늘': 11, '싫다': 12, '기분': 13, '받다': 14, '좋다': 15, '안': 16, '스럽다': 17, '짜증나다': 18, '알바': 19, 'ㅠㅠ': 20, '같다': 21, '넘다': 22, '가다': 23, '다': 24, '무섭다': 25, '때': 26, '먹다': 27, '있다': 28, '이다': 29, '만': 30, '화나다': 31, '에서': 32, '없다': 33, '하': 34, '한테': 35, '집': 36, '이야': 37, 'ㅋㅋㅋ': 38, '괴롭다': 39, '못': 40, '들다': 41, '보고': 42, '말': 43, '엄마': 44, '지금': 45, '겁나다': 46, '나다': 47, '나오다': 48, '마다': 49, '것': 50, '생각': 51, '인데': 52, '함': 53, '을': 54, '마음': 55, '때문': 56, '우리': 57, '돼다': 58, '왜': 59, '요즘': 60, '아빠': 61, '개': 62, '역겹다': 63, 'ㄹㅇ': 64, '게': 65, '난': 66, 'ㅋㅋ': 67, '속': 68, '제일': 69, 'ㅠ': 70, '되다': 71, '더럽다': 72, '세상': 73, '애': 74, '야': 75, '싶다': 76, '슬프다': 77, '혐오': 78, '놀라다': 79, '신나다': 80, '학교': 81, '두렵다': 82, '기쁘다': 83, '로': 84, 'ㅋㅋㅋㅋ': 85, '분하다': 86, '열': 87, '아깝다': 88, '꼴불견': 89, '고': 90, '오싹하다': 91, '뭔가': 92, '징그럽다': 93, '자다': 94, '적': 95, '소름': 96, '중': 97, '이렇게': 98, '죽다': 99, '토나오다': 100, '걱정': 101, '행복하다': 102, '뭐': 103, '나쁘다': 104, '랑': 105, '섬뜩하다': 106, '괘씸하다': 107, '아프다': 108, '기겁': 109, '방금': 110, '아니다': 111, '갑자기': 112, '구역질': 113, '즐겁다': 114, '진심': 115, '살벌하다': 116, '내일': 117, '긴장': 118, '어이없다': 119, '인생': 120, '완전': 121, '치밀다': 122, '불안하다': 123, '원망': 124, '하고': 125, '가관': 126, '정말': 127, '실망': 128, '님': 129, '충격': 130, '깜짝': 131, '일': 132, '니까': 133, '거북하다': 134, '얄밉다': 135, '철렁': 136, '경악': 137, '기절': 138, '으악': 139, '뜨다': 140, '악': 141, '싸가지': 142, '가슴': 143, '웩': 144, '돋다': 145, '화가': 146, '코로나': 147, '되게': 148, '우웩': 149, '인': 150, '속상하다': 151, '많다': 152, '동생': 153, '짜증': 154, '빡치다': 155, '재밌다': 156, '과제': 157, '같이': 158, '울적하다': 159, '아쉽다': 160, '뻔': 161, '실화': 162, '그': 163, '눈물나다': 164, '이랑': 165, '시원하다': 166, '신경질': 167, '아찔하다': 168, '심란하다': 169, '날씨': 170, '쓰다': 171, '찜찜하다': 172, '간절하다': 173, '당황': 174, '근데': 175, '미치다': 176, '쓸쓸하다': 177, '소리': 178, '헐다': 179, '언니': 180, '씨': 181, '듣다': 182, 'ㅜㅜ': 183, '뿌듯하다': 184, '으': 185, '시험': 186, '교수': 187, '살다': 188, '자꾸': 189, '부터': 190, '냄새': 191, '놀랍다': 192, '당하다': 193, '헉': 194, '예쁘다': 195, '오르다': 196, '괴상하다': 197, '실망하다': 198, '약속': 199, '생기다': 200, '사다': 201, '유쾌하다': 202, '미우다': 203, '씁쓸하다': 204, 'ㅜ': 205, '돈': 206, '부럽다': 207, 'ㅠㅠㅠ': 208, '신기하다': 209, '무시': 210, '날': 211, '처음': 212, '가소롭다': 213, '그립다': 214, '힘들다': 215, '으스스하다': 216, '맛있다': 217, '흐뭇하다': 218, '손님': 219, '회사': 220, '곤욕': 221, '비참하다': 222, '더': 223, '방': 224, '자신': 225, '카톡': 226, '난처하다': 227, '화': 228, '성적': 229, '공허하다': 230, '최악': 231, '내다': 232, '우울하다': 233, '잠': 234, '마스크': 235, '시간': 236, '구질구질하다': 237, '대박': 238, '지': 239, '상황': 240, '미안하다': 241, '살': 242, '머리': 243, '이렇다': 244, '분위기': 245, '증오': 246, '젠장': 247, '심장': 248, '그렇다': 249, 'ㅠㅠㅠㅠ': 250, '나가다': 251, '밤': 252, '사장': 253, '서': 254, '무시무시하다': 255, '한심하다': 256, '남자': 257, '신천지': 258, '서다': 259, '엄청': 260, '이번': 261, '보': 262, '반갑다': 263, 'ㅋ': 264, '공부': 265, '아직도': 266, '약오르다': 267, '그리다': 268, '찝찝하다': 269, '움찔': 270, '생일': 271, '자취': 272, '노래': 273, '놓다': 274, '꿈': 275, '줄': 276, '알다': 277, '괜히': 278, '이제': 279, '편안하다': 280, '어떡하다': 281, '볼': 282, '알': 283, '환멸': 284, '주다': 285, '계속': 286, '느낌': 287, '고맙다': 288, '가끔': 289, '임': 290, '어제': 291, '어떻다': 292, '사진': 293, '생리': 294, '조': 295, '몸': 296, '성격': 297, '만나다': 298, '다니다': 299, '옷': 300, '보기': 301, '쾌적하다': 302, '버스': 303, '따다': 304, '벌레': 305, '웃기다': 306, '심각하다': 307, '그냥': 308, '듣기': 309, '네이버': 310, '볼때': 311, '흥겹다': 312, '왤케': 313, '시키다': 314, '불쌍하다': 315, '나이': 316, '학원': 317, '다시': 318, '분노': 319, '로움': 320, '배송': 321, '맛없다': 322, '얼떨떨하다': 323, '죽': 324, '기구': 325, '해주다': 326, '분해': 327, '당혹스럽다': 328, '대견하다': 329, '해': 330, '경': 331, '혼자': 332, '얼굴': 333, '갑작스럽다': 334, '경멸': 335, '흉측하다': 336, '아아': 337, '인스타': 338, '수업': 339, '광고': 340, '데': 341, '관심': 342, '걸리다': 343, '남친': 344, '벌써': 345, 'ㅎ': 346, '척': 347, '놀래다': 348, '짐': 349, '떨어지다': 350, '카페': 351, '이라': 352, '운동': 353, '멋있다': 354, '떨다': 355, '힉': 356, '황홀하다': 357, '각박하다': 358, '끄다': 359, '대학': 360, '댓글': 361, '차다': 362, '배달': 363, '않다': 364, '영상': 365, '순간': 366, '섭섭하다': 367, '진자': 368, '감격': 369, '새벽': 370, '아이': 371, '외롭다': 372, '꺼림칙하다': 373, '떨리다': 374, '조마조마하다': 375, 'ㅋㅋㅋㅋㅋ': 376, '문자': 377, '대단하다': 378, '일본': 379, '싸다': 380, '아싸': 381, '유튜브': 382, '말투': 383, '좋아하다': 384, '선물': 385, '아침': 386, '짱': 387, '끝나다': 388, '극혐': 389, '흉': 390, '흉하다': 391, '화장실': 392, '갈다': 393, '다리': 394, '보내다': 395, '얘기': 396, '앗': 397, '네': 398, '화남': 399, '항상': 400, '자기': 401, '비': 402, '쌤': 403, '뭐라다': 404, '최고': 405, '모르다': 406, '반': 407, '바람': 408, '면': 409, '딱지': 410, '뜨끔하다': 411, '바퀴벌레': 412, '밖에': 413, '아무': 414, '까지': 415, '장학금': 416, '울': 417, '확': 418, '가소': 419, '해도': 420, '소름끼치다': 421, '아저씨': 422, '하루': 423, '걸': 424, '감': 425, '라': 426, '친하다': 427, '이롭다': 428, '등골': 429, '치': 430, '택배': 431, '눈': 432, '맞다': 433, 'ㅎㅎ': 434, '지하철': 435, '시원': 436, '냐': 437, '영화': 438, '년': 439, '잔인하다': 440, '사무치다': 441, '기': 442, '재미있다': 443, '오랜': 444, '다이어트': 445, '없이': 446, '담배': 447, '남자친구': 448, '억울하다': 449, '써다': 450, '여기': 451, '기막히다': 452, '에어팟': 453, '배': 454, '우리나라': 455, '날아가다': 456, '이래': 457, '가기': 458, '고달프다': 459, '빼다': 460, '사기': 461, '식당': 462, '할머니': 463, '스러운': 464, '눈물': 465, '보이다': 466, '돌다': 467, '별': 468, '사건': 469, '고독': 470, '뻔하다': 471, '밥': 472, '연애': 473, '가족': 474, '겁쟁이': 475, '딱': 476, '모기': 477, 'ㅋㅋㅋㅋㅋㅋ': 478, '결혼': 479, '드라마': 480, '이네': 481, '어리둥절': 482, '크다': 483, '다가': 484, '또': 485, '솔직하다': 486, '대': 487, '타다': 488, '출근': 489, '후': 490, '지다': 491, '엇': 492, '뉴스': 493, '사랑스럽다': 494, '찌다': 495, '따르다': 496, '팀': 497, '통쾌하다': 498, '옴': 499, '곳': 500, '자르다': 501, '이야기': 502, '건': 503, '우울증': 504, '후련하다': 505, '기사': 506, '귀엽다': 507, '학점': 508, '부모님': 509, '찍다': 510, '윗': 511, '쩔다': 512, '에게': 513, '밉다': 514, '무슨': 515, '잘못': 516, '문': 517, '놀람': 518, '물': 519, '술': 520, '할아버지': 521, '취소': 522, '곧': 523, '움': 524, '글': 525, '쓸다': 526, '강의': 527, '면접': 528, '남': 529, '스트레스': 530, '을씨년스럽다': 531, '뭉클하다': 532, '처리': 533, '교정': 534, '달': 535, '첫': 536, '약간': 537, '주': 538, '그래도': 539, '죽겠네': 540, '몇': 541, '명': 542, '굉장하다': 543, '감동': 544, '외로워': 545, '심하다': 546, '공무원': 547, '감사하다': 548, '게임': 549, '욕': 550, '바꾸다': 551, '상담': 552, '힘드다': 553, '저': 554, '이유': 555, '괴팍하다': 556, '똥': 557, '지나다': 558, '버리다': 559, '연락': 560, '많이': 561, '목소리': 562, '왜케': 563, '헤어지다': 564, '작다': 565, '애가': 566, '전남친': 567, '답답하다': 568, '오빠': 569, '동기': 570, '검사': 571, '외': 572, '롭고': 573, '편의점': 574, '근심': 575, '얘': 576, '스스로': 577, '가격': 578, '기상': 579, '읽다': 580, '아오': 581, '분': 582, '클럽': 583, '대다': 584, '휴': 585, '싫어하다': 586, '원래': 587, '너': 588, '때리다': 589, '전': 590, '월세': 591, '올해': 592, '눕다': 593, '예전': 594, '서운하다': 595, '점': 596, '일상': 597, '이라고': 598, '낄낄': 599, '인간': 600, '그게': 601, '강아지': 602, '경기': 603, '인가': 604, '퇴근': 605, '가뿐하다': 606, '말다': 607, '드디어': 608, '월요일': 609, '틀다': 610, '축하': 611, '주문': 612, '급작': 613, '놀다': 614, '깨다': 615, '울컥': 616, '새': 617, '생리통': 618, '젤': 619, '쉬다': 620, '운전': 621, '죽이다': 622, '인간관계': 623, '선배': 624, '인거': 625, '중국': 626, '피부': 627, '덥다': 628, '사실': 629, '번호': 630, '윽': 631, '한다는': 632, '이고': 633, '두': 634, '누가': 635, '닼': 636, '망하다': 637, '느끼하다': 638, '변하다': 639, '경박하다': 640, '비염': 641, '이중': 642, '맘': 643, '요새': 644, '이벤트': 645, '짓': 646, '키': 647, '사이': 648, '점점': 649, '치다': 650, '이사': 651, '젠': 652, '뭉클': 653, '불다': 654, '공차': 655, '밑': 656, '시': 657, '경험': 658, '비싸다': 659, '어': 660, '해괴': 661, '봄': 662, '짤': 663, '웹툰': 664, '듯': 665, '진상': 666, '입다': 667, '언제': 668, '학기': 669, '개강': 670, '에이': 671, '주의': 672, '가지': 673, '오': 674, '톡': 675, '병원': 676, '뿌듯': 677, '전화': 678, '직장': 679, '도와주다': 680, '폰': 681, '삶': 682, '사': 683, '짜다': 684, '들어오다': 685, '재난': 686, '정리': 687, '햄버거': 688, '포기': 689, '새롭다': 690, '니': 691, '이상하다': 692, '당한': 693, '딸': 694, '매': 695, '초': 696, '풍': 697, '이라서': 698, '친': 699, '요리': 700, '구': 701, '자주': 702, '아파트': 703, '택시': 704, '잘리다': 705, '혈육': 706, '준': 707, '룸메': 708, '졸업': 709, '싸우다': 710, '들어가다': 711, '발': 712, '만들다': 713, '아이패드': 714, '초조하다': 715, '일어나다': 716, '질겁': 717, '과거': 718, '쓰기': 719, '나르다': 720, '코': 721, '막히다': 722, '사랑': 723, '주행': 724, '합격': 725, '어휴': 726, '치과': 727, '두려움': 728, '여': 729, '행복': 730, '선생님': 731, '마감': 732, '퇴사': 733, '대서': 734, '쪽': 735, '실습': 736, '쇼킹': 737, '잡다': 738, '래': 739, '세뱃돈': 740, '얼': 741, '허다': 742, '번만': 743, '정': 744, '치킨': 745, '성공': 746, '스럽게': 747, '쿠팡': 748, '티': 749, '차': 750, '앞': 751, '어리다': 752, '음식': 753, '파리': 754, '지나가다': 755, '당': 756, '예민하다': 757, '서울': 758, '헉스': 759, '타로': 760, '길거리': 761, '직': 762, '필요하다': 763, '쇼핑': 764, '잘생기다': 765, '부르다': 766, '불륜': 767, '책': 768, '거실': 769, '뭘': 770, '피': 771, '떠나다': 772, '페이': 773, '좋아지다': 774, '쩝쩝': 775, '거리': 776, '사랑니': 777, '방학': 778, 'ㅋㅋㅋㅋㅋㅋㅋ': 779, '모으다': 780, '고등학교': 781, '공포영화': 782, '어쩜': 783, '배고프다': 784, '웃다': 785, '엔': 786, '골목': 787, '저런': 788, '이나': 789, '씩': 790, '매우': 791, '만족스럽다': 792, '학과': 793, '대상': 794, '성공하다': 795, '히': 796, '울다': 797, '재미': 798, '간다': 799, '해보다': 800, '산': 801, '이쁘다': 802, '대장': 803, '이혼': 804, '아슬아슬하다': 805, '고양이': 806, '탈출': 807, '어이': 808, '열다': 809, '켜다': 810, '우': 811, '종강': 812, '역대': 813, '급': 814, '수법': 815, '수': 816, '경이': 817, '느끼다': 818, '속이다': 819, '교양': 820, '알고리즘': 821, '걷다': 822, '이리': 823, '자존감': 824, '안녕': 825, '천외': 826, '살찌다': 827, '엄청나다': 828, '직원': 829, '간': 830, '편하다': 831, '기다리다': 832, '당첨': 833, '학생': 834, '자랑스럽다': 835, '신발': 836, '우와': 837, '비교': 838, '쩐다': 839, '수준': 840, '뭔': 841, '겁': 842, '향수': 843, '감성': 844, '알림': 845, '옆': 846, '맨날': 847, '하나': 848, '상': 849, '지롱': 850, '공포증': 851, '등록금': 852, '해킹': 853, '밖': 854, '미세먼지': 855, '취향': 856, 'ㅜㅜㅜㅜ': 857, '자체': 858, '열심히': 859, '찾다': 860, '배정': 861, '알바생': 862, '제기랄': 863, '화장': 864, '엘베': 865, '컬러': 866, '오래': 867, '정도': 868, '낳다': 869, '답장': 870, '손절': 871, '우리동네': 872, '버티다': 873, '아련하다': 874, '마르다': 875, '라는': 876, '노트북': 877, '꿈꾸다': 878, '여자': 879, '대놓고': 880, '플': 881, '영어': 882, '친척': 883, '거래': 884, '바뀌다': 885, '내용': 886, '분들': 887, '결국': 888, '답': 889, '꺄': 890, '들이다': 891, '만해': 892, '빨리': 893, '주변': 894, '별거': 895, '평범하다': 896, '적다': 897, '사고': 898, '마지막': 899, '강': 900, '와우': 901, '핵': 902, '쳐다보다': 903, '라고': 904, '까먹다': 905, '순이': 906, '내내': 907, '아련': 908, '여서': 909, '빠지다': 910, '옛날': 911, '일이': 912, '람': 913, '안고': 914, '피다': 915, '갈구다': 916, '사주': 917, '아무리': 918, '살기': 919, '최근': 920, '늘다': 921, '장': 922, '진로': 923, '치욕스럽다': 924, '밤새다': 925, '쉬': 926, '더러': 927, '케이스': 928, '잃어버리다': 929, '발언': 930, '아이돌': 931, '정신': 932, '천둥소리': 933, '내버리다': 934, '두다': 935, '잇몸': 936, '명절': 937, '깔깔': 938, '주말': 939, '친언니': 940, '성년': 941, '황홀': 942, '가게': 943, '취급': 944, '배부르다': 945, '귤': 946, '복권': 947, '진지하다': 948, '분노조절': 949, '입장': 950, '어버이날': 951, '처럼': 952, '걸다': 953, '짝사랑': 954, '아이쿠': 955, '가위': 956, '서브웨이': 957, '약': 958, '태도': 959, '만화': 960, '끝': 961, '서럽다': 962, '바람소리': 963, '촉': 964, '목': 965, '불': 966, '스산해': 967, '점장님': 968, '이름': 969, '악의': 970, '꾸다': 971, '변기': 972, '결혼식': 973, '준비': 974, '가장': 975, '반말': 976, '우리엄마': 977, '머리카락': 978, '씨방': 979, '살인': 980, '거야': 981, 'ㅡ': 982, '오름': 983, '웃기': 984, '사서': 985, '꼭': 986, '시력': 987, '불만족': 988, '불면증': 989, '바': 990, '선생': 991, '수면': 992, '양말': 993, '긴박하다': 994, '커피': 995, '느껴지다': 996, '어렵다': 997, '구경': 998, '말씀': 999, '에만': 1000, '쫌': 1001, '은근': 1002, '워치': 1003, '높다': 1004, '저격': 1005, '갈수록': 1006, '혜나': 1007, '절대': 1008, '들어서다': 1009, '수박': 1010, '피자': 1011, '오늘이': 1012, '유쾌': 1013, '독서실': 1014, '아주': 1015, '흡족하다': 1016, '라섹': 1017, '쫙': 1018, '새해': 1019, '세포': 1020, '배터리': 1021, '검색': 1022, '기차': 1023, '취업': 1024, '아이폰': 1025, '자동': 1026, '와이파이': 1027, '첨': 1028, '온': 1029, '길가': 1030, '동안': 1031, '금': 1032, '놀리다': 1033, '환승': 1034, '싸움': 1035, '유행': 1036, '창문': 1037, '엑': 1038, '누나': 1039, '초코': 1040, '죽음': 1041, '놓치다': 1042, '가스': 1043, '팅': 1044, '신기': 1045, '전화영': 1046, '다른': 1047, '나라': 1048, '방귀': 1049, '낯가림': 1050, '사귀다': 1051, '코웃음': 1052, '땅': 1053, '위': 1054, '까무러칠': 1055, '거울': 1056, '씹다': 1057, '향': 1058, '대면': 1059, '케이크': 1060, '번': 1061, '현장': 1062, '효과': 1063, '색깔': 1064, '일주일': 1065, '정신과': 1066, '자리': 1067, '니깐': 1068, '집안': 1069, '털': 1070, '홍대': 1071, '그림': 1072, '학창시절': 1073, '고백': 1074, '오예': 1075, '학벌': 1076, '담임': 1077, '친해지다': 1078, '누구': 1079, '빈': 1080, '애플': 1081, '이라는': 1082, '기준': 1083, '아날로그': 1084, '올': 1085, '다정하다': 1086, '선수': 1087, '깔다': 1088, '새내기': 1089, '기숙사': 1090, '끼리': 1091, '끝내다': 1092, '곸': 1093, '상사': 1094, '넷플': 1095, '손민수': 1096, '무서움': 1097, '이해': 1098, '심해': 1099, '시작': 1100, '휴학': 1101, '핸드폰': 1102, '돌아가다': 1103, '차이': 1104, '동선': 1105, '언': 1106, '월급': 1107, '눈앞': 1108, '원망하다': 1109, '번장': 1110, '확실하다': 1111, '엉덩이': 1112, '하진': 1113, '선택': 1114, '서류': 1115, '필기': 1116, '부심': 1117, '시절': 1118, '동네': 1119, '꼬이다': 1120, '사소하다': 1121, '낮다': 1122, '비행기': 1123, '귀': 1124, '이르다': 1125, '질': 1126, '잠도': 1127, '변비': 1128, '방법': 1129, '재수': 1130, '맞춤법': 1131, '미용실': 1132, '의심': 1133, '이태원': 1134, '모': 1135, '놈': 1136, '쾌활하다': 1137, '그날': 1138, '불안정하다': 1139, '등교': 1140, '강행': 1141, '꿀꿀하다': 1142, '서로': 1143, '으으': 1144, '유학': 1145, '침': 1146, '뱉다': 1147, '최고다': 1148, '마주치다': 1149, '치아': 1150, '기간': 1151, '모든': 1152, '여자친구': 1153, '새치기': 1154, '침대': 1155, '남동생': 1156, '말아먹다': 1157, '중국집': 1158, '원금': 1159, '상처': 1160, '절절': 1161, '모습': 1162, '스토리': 1163, '올리다': 1164, '좀비': 1165, '에어컨': 1166, '옆집': 1167, '피해자': 1168, '라면': 1169, '맥주': 1170, '캬': 1171, '상실': 1172, '막말': 1173, '필름': 1174, '능력': 1175, '노맛': 1176, '대해': 1177, '농담': 1178, '이라도': 1179, '라떼': 1180, '기피': 1181, '드립': 1182, '낼': 1183, '저렇게': 1184, '야하다': 1185, '러시아': 1186, '사오다': 1187, '중고': 1188, 'ㅋㅋㅋㅋㅋㅋㅋㅋ': 1189, '꺅': 1190, '유기견': 1191, '경찰': 1192, '만에': 1193, '스포': 1194, '일본여행': 1195, '해괴망측': 1196, '백화점': 1197, '어우': 1198, '한자': 1199, '단': 1200, '사회': 1201, '저렇다': 1202, '양': 1203, '후련': 1204, '세계': 1205, '열등감': 1206, '우웩임': 1207, '근로': 1208, '철': 1209, '그만두다': 1210, '강요': 1211, '껄껄': 1212, '주식': 1213, '짱구': 1214, '심보': 1215, '비웃다': 1216, '유튜': 1217, '버들': 1218, '재수생': 1219, '지우다': 1220, '료': 1221, '움찔움찔': 1222, '아차': 1223, '새끼': 1224, '애인': 1225, '꼴': 1226, '과민성': 1227, '증후군': 1228, '부모': 1229, '착하다': 1230, '하늘': 1231, '점수': 1232, '맛': 1233, '팁': 1234, '문화': 1235, '영': 1236, '귀신': 1237, '우어': 1238, '기대하다': 1239, '역': 1240, '컴백': 1241, '교사': 1242, '근무': 1243, '낮': 1244, '센터': 1245, '이기다': 1246, '한데': 1247, '취뽀': 1248, '애기': 1249, '초라하다': 1250, '터지다': 1251, '력': 1252, '더워지다': 1253, '젤리': 1254, '대학교': 1255, '넣다': 1256, '꾼': 1257, '노력': 1258, 'ㅂㄷㅂㄷ': 1259, '아뿔싸': 1260, '꺼림칙': 1261, '악하다': 1262, '당근': 1263, '태우다': 1264, '소개팅': 1265, '앱': 1266, '틱톡': 1267, '즐기다': 1268, '천': 1269, '외한': 1270, '배민': 1271, '성희롱': 1272, '다음주': 1273, '공': 1274, '시끄럽다': 1275, '졸': 1276, '프사': 1277, '바퀴': 1278, '누르다': 1279, '느리다': 1280, '지나': 1281, '적임': 1282, '다가오다': 1283, '땀': 1284, '무서웡': 1285, '눈치': 1286, '끝판': 1287, '왕': 1288, 'ㅜㅜㅜ': 1289, '추다': 1290, '여친': 1291, '거미': 1292, '동아리': 1293, 'ㅠㅠㅠㅠㅠ': 1294, '신': 1295, '가사': 1296, '아이스크림': 1297, '먹방': 1298, '돈벌레': 1299, '집안일': 1300, '이후': 1301, '발표': 1302, '문의': 1303, '뒤': 1304, '넘어가다': 1305, '참다': 1306, '불만': 1307, '으아': 1308, '포인트': 1309, '손': 1310, '런가': 1311, '당일': 1312, '페북': 1313, '얌': 1314, '자퇴생': 1315, '물건': 1316, '신청': 1317, '곤지암': 1318, '답정너': 1319, '어리둥절하다': 1320, '헌혈': 1321, '근': 1322, '닾': 1323, '로그인': 1324, '풀리다': 1325, '업슨': 1326, 'ㄴ': 1327, '오마이갓': 1328, '손가락질': 1329, '매달리다': 1330, '쉰내': 1331, '도로': 1332, '한번': 1333, '관계': 1334, '거짓말': 1335, '블로그': 1336, '잘나다': 1337, '햄': 1338, '웩웩': 1339, '네스프레소': 1340, '머신': 1341, '개인': 1342, '줄이다': 1343, '옆모습': 1344, '의사': 1345, '티비': 1346, '지켜보다': 1347, '미용': 1348, '맺힌거': 1349, '잘살다': 1350, '적당하다': 1351, '씻다': 1352, '슬슬': 1353, '부정': 1354, '덕후': 1355, '얕다': 1356, '타인': 1357, '지옥': 1358, '크라운': 1359, '수다': 1360, '장마': 1361, '잡플래닛': 1362, '프로덕션': 1363, '가만히': 1364, '아름답다': 1365, '에탄': 1366, '태어나다': 1367, '정치': 1368, '까스차': 1369, '한국사': 1370, '오씨': 1371, '박사': 1372, '실체': 1373, '으으윽': 1374, '뼛속': 1375, '썩다': 1376, '일반': 1377, '교회': 1378, '오라': 1379, '집중': 1380, '안되다': 1381, '빨르다': 1382, '온당': 1383, '보드게임': 1384, '실검': 1385, '현': 1386, '대광고': 1387, '서브': 1388, '역시': 1389, '콤': 1390, '덕분': 1391, '투표': 1392, '속옷': 1393, '쇼핑몰': 1394, '맞팔': 1395, '까르보나라': 1396, '수동': 1397, '등': 1398, '모임': 1399, '장애': 1400, '센치': 1401, '행': 1402, '토토': 1403, '스산하': 1404, '학교괴담': 1405, '날인': 1406, '마트': 1407, '불친절하다': 1408, '종교': 1409, '한국인': 1410, '일본인': 1411, '지방': 1412, '찬열': 1413, '피우다': 1414, '해피엔딩': 1415, '흑': 1416, '빌어먹을': 1417, '눌려': 1418, '공포': 1419, '살짝': 1420, '피싱': 1421, '추천': 1422, '전임': 1423, '감기': 1424, '일도': 1425, 'ㅓ': 1426, '안뇽': 1427, '핀': 1428, '발목': 1429, '관': 1430, '나빠지다': 1431, '왜캐': 1432, '산책': 1433, '도움': 1434, '건지다': 1435, '교': 1436, '정기': 1437, '고무줄': 1438, '굿모닝': 1439, '출발': 1440, '아울렛': 1441, '고정': 1442, 'ㅋㅋㄲㅋㅋㅋ': 1443, 'ㄲㅋㅋㄲㅋㅋㅋ': 1444, '이란': 1445, '주름': 1446, '멋지다': 1447, '얽다': 1448, '품다': 1449, 'ㄷㄷㄷㄷ': 1450, '디지다': 1451, '깜놀': 1452, '자기혐오': 1453, '후회되다': 1454, '에어': 1455, '프라': 1456, '이기': 1457, '회수': 1458, '여름': 1459, '헝': 1460, '공시': 1461, '초면': 1462, '오히려': 1463, '심': 1464, '강서구': 1465, '가시': 1466, '밭길': 1467, '다해': 1468, '이성': 1469, '편두통': 1470, '서울대': 1471, '가보다': 1472, '버스정류장': 1473, '입시': 1474, '때메': 1475, '공복': 1476, '샤워': 1477, '외국인': 1478, '거기': 1479, '쇼킹하닼': 1480, '랑은': 1481, '섭섭': 1482, '오토바이': 1483, '뜻': 1484, '서늘하다': 1485, '프로필': 1486, '시럽': 1487, '소외': 1488, '포근포근': 1489, '따뜻하다': 1490, '단발': 1491, '만족': 1492, '제모': 1493, '결제': 1494, '자소': 1495, '황당하다': 1496, '케잌': 1497, '미국': 1498, '땜': 1499, '괴로웦': 1500, '종일': 1501, '분식집': 1502, '오버': 1503, '매칭': 1504, '물리다': 1505, '금수': 1506, '면서': 1507, '카페인': 1508, '금지': 1509, '처방': 1510, '고집': 1511, '부리다': 1512, '다시다': 1513, '휴지': 1514, '거시경제': 1515, '수요일': 1516, '교생실습': 1517, '고소': 1518, '발전': 1519, '라도': 1520, '칭찬': 1521, '스트레칭': 1522, '하천': 1523, '여행가': 1524, '어어어어': 1525, '온몸': 1526, '장님': 1527, '께서': 1528, '복': 1529, '욱': 1530, '까무러치': 1531, '눈빛': 1532, '십만원': 1533, '브금': 1534, '에티켓': 1535, '완성': 1536, '뭔뎈': 1537, '사탄': 1538, '위생': 1539, '호감': 1540, '성추행': 1541, '못번다': 1542, '내시경': 1543, '약물': 1544, '펴다': 1545, '나중': 1546, '지각': 1547, '앤': 1548, '년놈': 1549, '생신': 1550, '반려동물': 1551, '텍스트': 1552, '취한': 1553, '키프트콘': 1554, '크흐': 1555, '로또': 1556, '커서': 1557, '개웃': 1558, '기네': 1559, 'ㅋㅋㅋㅋㅋㅋㅋㅋㅋㅋㅋㅋ': 1560, '춤추다': 1561, '민증': 1562, '여유': 1563, '휴대폰': 1564, '잠들다': 1565, '오싹오싹': 1566, '거만': 1567, '준영': 1568, '혼란': 1569, '여동생': 1570, '뿌듯허': 1571, '딸기': 1572, '스무디': 1573, '제주': 1574, '전남편': 1575, '싸이코패스': 1576, '학번': 1577, '비거': 1578, '자료': 1579, '대충': 1580, '트리트먼트': 1581, '결': 1582, '알라딘': 1583, '롭닼': 1584, '얼마': 1585, '이냐': 1586, '무겁다': 1587, '초밥': 1588, '작년': 1589, '새삼': 1590, '부산': 1591, '루미큐브': 1592, '디즈니': 1593, '베이비돌': 1594, '리페': 1595, '길': 1596, '엥': 1597, '비오네': 1598, '나쁜사람': 1599, '송해': 1600, '실시간': 1601, '가을': 1602, '구경만': 1603, '거의': 1604, '잡아가다': 1605, '커지다': 1606, '지원': 1607, '자수': 1608, '코스트코': 1609, '다이아': 1610, '반지': 1611, '섞다': 1612, '슈돌': 1613, '나은': 1614, '진쨔': 1615, '꼬깔콘': 1616, '반응': 1617, '욱씬거리': 1618, '지만': 1619, '놀랍닼': 1620, '섬유': 1621, '유연제': 1622, '루피': 1623, '장난감': 1624, '잔인함': 1625, '대낮': 1626, '레터': 1627, '링': 1628, '소비': 1629, '택갈': 1630, '목격': 1631, '틴트': 1632, '해지': 1633, '마인드': 1634, '자라': 1635, '하루하루': 1636, '거른거': 1637, '갑': 1638, '수목장': 1639, '이래서': 1640, '교복': 1641, '보이': 1642, '강원도': 1643, '감자': 1644, '종아리': 1645, '밀다': 1646, '샤프심': 1647, '걔네': 1648, '진짴': 1649, 'ㅋㅋㅋㅋㅋㅋㅋㅋㅋ': 1650, '성적표': 1651, '프랑스': 1652, '주인공': 1653, '마냥': 1654, '체': 1655, '제사': 1656, '골목길': 1657, '바가지': 1658, '얼마나': 1659, '배란': 1660, '사촌': 1661, '째지다': 1662, '하늘색': 1663, '장르': 1664, '변화': 1665, '위대하다': 1666, '쇼맨': 1667, '컨저링': 1668, '겪다': 1669, '공개': 1670, '피부색': 1671, '트윗': 1672, '심박수': 1673, '참견': 1674, '판단': 1675, '손정우': 1676, '강력범죄': 1677, '남아': 1678, '개화': 1679, '치욕': 1680, '오우': 1681, '물음표': 1682, '살인마': 1683, '외국': 1684, '인들': 1685, '노년': 1686, '게시': 1687, '지리다': 1688, '도중': 1689, '툭툭': 1690, '끊다': 1691, '배배': 1692, '찾아가다': 1693, '영수증': 1694, '절망': 1695, '공휴일': 1696, '에는': 1697, '액정': 1698, '커버': 1699, '크릴': 1700, '오일': 1701, '괜찮다': 1702, '맥날': 1703, '지도': 1704, '허전하다': 1705, '허무하다': 1706, '잠귀': 1707, '밝다': 1708, '일보': 1709, '직전': 1710, '친한친구': 1711, '치인트': 1712, '후우': 1713, '어마': 1714, '팔이': 1715, '엿같': 1716, '쓰레기': 1717, '건데': 1718, '마음대로': 1719, '낙서': 1720, '가오': 1721, '나대다': 1722, '낰': 1723, 'ㅋㅋㅋㅋㅋㅋㅋㅋㅋㅋㅋㅋㅋㅋㅋㅋㅋ': 1724, '아이디': 1725, '고독사': 1726, '겹': 1727, '코난': 1728, '저딴': 1729, '팔다': 1730, '플루': 1731, '점심시간': 1732, 'ㅋㅋㅠㅠ': 1733, '유난': 1734, '한계': 1735, '일전': 1736, '또래': 1737, '그러면': 1738, '하나라': 1739, '생': 1740, '십': 1741, '쾅': 1742, '산다': 1743, '안타깝다': 1744, '착잡하다': 1745, '웃': 1746, '과목': 1747, '일만': 1748, '틀리다': 1749, '탈': 1750, '멸함': 1751, '치통': 1752, '넷플릭스': 1753, '분석': 1754, '집주인': 1755, '안개': 1756, '남하': 1757, '큐': 1758, '큐쿠': 1759, '핏줄': 1760, '광탈': 1761, '열쇠': 1762, '에너지': 1763, '긍정': 1764, '오후': 1765, '온대': 1766, '가득': 1767, '가득하다': 1768, '쩌는데': 1769, '토익': 1770, '치우다': 1771, '질책': 1772, '싸이월드': 1773, '지진': 1774, '맛집': 1775, '서랍': 1776, '시간표': 1777, '가지다': 1778, '문제': 1779, '권태기': 1780, '지인': 1781, '소개': 1782, '급식': 1783, '거지': 1784, '찬물': 1785, '끼': 1786, '얹다': 1787, '매일': 1788, '잉여': 1789, '외로움': 1790, '몰카': 1791, '지에스': 1792, '계절': 1793, '배신': 1794, '핑계': 1795, '대고': 1796, '기묘하다': 1797, '국어': 1798, '가난하다': 1799, '자의': 1800, '설움': 1801, '원증': 1802, '필라테스': 1803, '스럽지': 1804, '그렇게': 1805, '의료': 1806, '진': 1807, '어디가': 1808, '흉휴앻': 1809, '흐흐': 1810, '봄방학': 1811, '수원역': 1812, '틀림': 1813, '스산': 1814, '벌렁벌렁': 1815, '집다': 1816, '던지다': 1817, '공간': 1818, '남다': 1819, '가야': 1820, '부담스럽다': 1821, '공고': 1822, '거래처': 1823, '자질': 1824, '으앙': 1825, '컵': 1826, '떡볶이': 1827, '이지': 1828, '귀찮다': 1829, '졸음': 1830, '마저': 1831, '구해': 1832, '예체능': 1833, '단체': 1834, '생활': 1835, '나무': 1836, '쏠': 1837, '닭': 1838, '껍질': 1839, '제목': 1840, '프로': 1841, '도전': 1842, '지치다': 1843, '어장': 1844, '닫히다': 1845, '설': 1846, '댁': 1847, '탈주': 1848, 'ㅜㅠ': 1849, '올라서다': 1850, '일상생활': 1851, '수줍다': 1852, '중국인': 1853, '중고나라': 1854, '조국': 1855, '책임감': 1856, '수능': 1857, '원어민': 1858, '피피티': 1859, '트위터': 1860, '컴퓨터': 1861, '출장': 1862, '큰일': 1863, '위로': 1864, '비비큐': 1865, '초딩': 1866, '부류': 1867, '치열': 1868, '정지': 1869, '안함': 1870, '가누다': 1871, '취해': 1872, '가면': 1873, '곡': 1874, '힘겹다': 1875, '대답': 1876, '불합': 1877, '이라니': 1878, '보여주다': 1879, '꽃가루': 1880, '알레르기': 1881, '대중': 1882, '빌리다': 1883, '선하다': 1884, '과정': 1885, '중간고사': 1886, '돼지': 1887, '축사': 1888, '체험': 1889, '무능력하다': 1890, '비만': 1891, '경쟁률': 1892, '군데': 1893, '코스': 1894, '판': 1895, '써니': 1896, '투썸': 1897, '묘': 1898, '만드': 1899, '제발': 1900, '어떤': 1901, '꽃놀이': 1902, '킹덤': 1903, '부쩍': 1904, '펑펑': 1905, '틀': 1906, '독립': 1907, '뛰다': 1908, '미투': 1909, '한강': 1910, '점주': 1911, '승차': 1912, '거부': 1913, '자존심': 1914, '상해': 1915, '제대로': 1916, '국제': 1917, '제재': 1918, 'ㅔ': 1919, '화난': 1920, '다화': 1921, 'ㅜㅜㅜㅜㅜㅜ': 1922, '얼씨구': 1923, '두르다': 1924, '눈썹': 1925, '일정': 1926, '기프트': 1927, '콘': 1928, '전쟁': 1929, '녹차': 1930, '공감': 1931, '부족하다': 1932, '호르몬': 1933, '자식': 1934, '편순': 1935, '운전면허': 1936, '기능': 1937, '걔': 1938, '원함': 1939, '후반': 1940, '부': 1941, '못자다': 1942, '유부초밥': 1943, '등산': 1944, 'ㅏㅏ': 1945, '테라': 1946, '캔': 1947, '마시다': 1948, '몰입': 1949, '밖에도': 1950, '패': 1951, '알아듣다': 1952, '전문대': 1953, '잘만': 1954, '외가': 1955, 'ㅠㅋㅋㅋ': 1956, '근처': 1957, '공유': 1958, '낙엽': 1959, '밟다': 1960, '추위': 1961, '더위': 1962, '일시': 1963, '폭발': 1964, '조차': 1965, '닫다': 1966, '화내': 1967, '신분증': 1968, '학생회': 1969, '생색': 1970, '기껏': 1971, '아악': 1972, '초파리': 1973, '여사': 1974, 'ㅠㅠㅠㅠㅠㅠㅠ': 1975, '유니클로': 1976, '크리스마스': 1977, '눌렸는데': 1978, '아이쇼핑': 1979, '수건': 1980, '현질': 1981, '타이밍': 1982, '오전': 1983, '차라': 1984, '정치성향': 1985, '마상': 1986, '클라우드': 1987, '끔찍하다': 1988, '숙취': 1989, '잔잔하다': 1990, '뒷전': 1991, '한숨': 1992, '철벽': 1993, '야자': 1994, '안다': 1995, '입양': 1996, '절차': 1997, '까다롭다': 1998, '쌍수': 1999, '흠족함': 2000, '사유': 2001, '부재': 2002, '장난': 2003, '동트': 2004, '고프다': 2005, '화기': 2006, '애애': 2007, '피드백': 2008, '어쩔': 2009, '주심': 2010, '흐르다': 2011, '쉑쉑': 2012, '막상': 2013, '개학': 2014, '뇨': 2015, '꿈궜는데': 2016, '매장': 2017, '어울리다': 2018, '미래': 2019, '근로장려금': 2020, '명의': 2021, '돌리다': 2022, '혼': 2023, '종이': 2024, '부다': 2025, '한잔': 2026, '처지': 2027, '입가': 2028, '미소': 2029, '샤방샤방했던': 2030, '마구': 2031, '뻗치다': 2032, '평화': 2033, '배우다': 2034, '성장': 2035, '환경': 2036, '갠톡': 2037, '매번': 2038, '쿠키': 2039, '강추': 2040, '가르치다': 2041, '매다': 2042, '계정': 2043, '부부': 2044, '이모': 2045, '선풍기': 2046, '날아오다': 2047, '대구': 2048, '실': 2049, '짜임새': 2050, '약사': 2051, '뽑다': 2052, '든': 2053, '타': 2054, '치면': 2055, '멀다': 2056, '찜찜': 2057, '고딩': 2058, '심란': 2059, '타고': 2060, '합법': 2061, '기말고사': 2062, '틈': 2063, '부부싸움': 2064, '쿼터': 2065, '야유회': 2066, '참가': 2067, '유리': 2068, '전환': 2069, '유산': 2070, '추워지다': 2071, '비위': 2072, '강하다': 2073, '고삼': 2074, '예식장': 2075, '뷔페': 2076, '생판': 2077, '박태환': 2078, '숨': 2079, '유튜버': 2080, '이세영': 2081, '전공': 2082, '컴활': 2083, '햇볕': 2084, '불시': 2085, '착': 2086, '유미': 2087, '연습실': 2088, '부족': 2089, '뒤늦다': 2090, '유사': 2091, '시킴': 2092, '훈훈하다': 2093, '도보': 2094, '분컷': 2095, '약국': 2096, '양일': 2097, '수록': 2098, '흔하다': 2099, '바지': 2100, '짭짭거리다': 2101, '엌': 2102, '지적': 2103, '싫어지다': 2104, '악플': 2105, '게이': 2106, '밍': 2107, '둥절': 2108, '가차': 2109, '인게': 2110, '여행': 2111, '화보': 2112, '비웃음': 2113, '방송': 2114, '보컬': 2115, '올라오다': 2116, '꼬맹이': 2117, '락휴': 2118, '근무시간': 2119, '양치': 2120, '재채기': 2121, '살빼다': 2122, '컨셉': 2123, '돌아오다': 2124, '누락': 2125, '컴': 2126, '플레인': 2127, '자구': 2128, '쿨하다': 2129, '많아지다': 2130, '샴푸': 2131, '모낭충': 2132, '회계': 2133, '만이': 2134, '용하다': 2135, '안녕하다': 2136, '유치원': 2137, '만약': 2138, '공적': 2139, '파우치': 2140, '중딩': 2141, '제보자': 2142, '코팩': 2143, '아우': 2144, '탄수화물': 2145, 'ㅜㅠㅠ': 2146, '오픈': 2147, '고객': 2148, '팬미팅': 2149, '펫샵': 2150, '동물': 2151, '계약': 2152, '신비': 2153, '괴담': 2154, '절대평가': 2155, 'ㅏ': 2156, '서서': 2157, '무기': 2158, '닦다': 2159, 'ㄷㄷ': 2160, '조금씩': 2161, '거임': 2162, '물류': 2163, '골프장': 2164, '회원': 2165, '권': 2166, '비올': 2167, '길냥이': 2168, '족보': 2169, '장사': 2170, '등급': 2171, '컷': 2172, '멀리': 2173, '해먹': 2174, '이민': 2175, '교직': 2176, '작고': 2177, '소중하다': 2178, '단호박': 2179, '빵': 2180, '졸라': 2181, '날아들다': 2182, '특유': 2183, '콧소리': 2184, '우편함': 2185, '쪽지': 2186, '신혼': 2187, '일기': 2188, '고르다': 2189, '공대생': 2190, '바라다': 2191, '카트': 2192, '추가': 2193, '확진': 2194, '다이소': 2195, '길이': 2196, '그만': 2197, '라이': 2198, '단어': 2199, '밴드': 2200, '붙이다': 2201, '닿다': 2202, '응팔': 2203, '마켓': 2204, '리얼': 2205, '검다': 2206, '사막': 2207, '게임광': 2208, '꾀다': 2209, '주민': 2210, '동점': 2211, '강심장': 2212, '간호사': 2213, '비치다': 2214, '생얼': 2215, '건가': 2216, '존중': 2217, '조급하다': 2218, '누군가': 2219, '폭락': 2220, '회복하다': 2221, '하씨': 2222, '우욱': 2223, '퍼스': 2224, '널': 2225, '플하': 2226, '반찬': 2227, '헤헤': 2228, '책임': 2229, '타투': 2230, '제거': 2231, '말로': 2232, '리뷰': 2233, '충북대': 2234, '사촌언니': 2235, '그저': 2236, '보수': 2237, '내주다': 2238, '과일': 2239, '구두': 2240, '일부러': 2241, '예상': 2242, '혹성탈출': 2243, '당뇨': 2244, '경희의료원': 2245, '복학': 2246, '우체국': 2247, '혼나다': 2248, '전시회': 2249, '한국': 2250, '페미': 2251, '러쉬': 2252, '팔': 2253, '사소리': 2254, '뒷말': 2255, '하아': 2256, '괴롭히다': 2257, '망측': 2258, '반바지': 2259, '치마': 2260, '홀': 2261, '서빙': 2262, '짓다': 2263, '찍': 2264, '유': 2265, '퀴즈': 2266, '려니': 2267, '시민': 2268, '의식': 2269, '왠지': 2270, '제천': 2271, '스벅': 2272, '민들레': 2273, '극도': 2274, '똥똥하다': 2275, '녜': 2276, '쿡': 2277, '라라': 2278, '랜드': 2279, '섀도우': 2280, '화만': 2281, '띠': 2282, '동갑': 2283, '울리다': 2284, '줄다': 2285, '개운': 2286, '얻다': 2287, '생강차': 2288, '버블티': 2289, '펄': 2290, '딴': 2291, '휴무': 2292, '우울함': 2293, 'ㅇ': 2294, 'ㅏㅇ': 2295, '도벽': 2296, '양쪽': 2297, '가해자': 2298, '모텔': 2299, '고마': 2300, '웡': 2301, '졸업식': 2302, '수족': 2303, '냉증': 2304, '더샘': 2305, '대형견': 2306, '품': 2307, '꽉': 2308, '허벅지': 2309, '풀기': 2310, '질투': 2311, '식은땀': 2312, '맵다': 2313, '장미꽃': 2314, '자두': 2315, '두리안': 2316, '동': 2317, '피해': 2318, '대로': 2319, '아직': 2320, '화들짝': 2321, '한진택배': 2322, '엄빠': 2323, '발바닥': 2324, '사마귀': 2325, '흘리다': 2326, '스벤': 2327, '친목': 2328, '구질구질': 2329, 'ㅜㅜㅜㅜㅜ': 2330, '유난히': 2331, '덕질': 2332, '굽': 2333, '계란': 2334, '어후': 2335, '연말정산': 2336, '비대': 2337, '팔로워': 2338, '용돈': 2339, '밀크': 2340, '기적': 2341, '기다': 2342, 'ㅇㄴ': 2343, '속마음': 2344, '이모티콘': 2345, '막다': 2346, '무증상': 2347, '공지': 2348, '인종차별': 2349, '살이': 2350, '짝': 2351, '마스카라': 2352, '늦다': 2353, '잔': 2354, '지우개': 2355, '편': 2356, '정말로': 2357, '버퍼링': 2358, '이중성': 2359, '까무러침': 2360, '동료': 2361, '추하다': 2362, '벅스': 2363, '음질': 2364, '겹칠': 2365, '사무실': 2366, '앉다': 2367, '가산': 2368, '피시방': 2369, '편안': 2370, '서유기': 2371, '가해': 2372, '뽑히다': 2373, '민': 2374, '식': 2375, '이법': 2376, '놀이': 2377, '초등학생': 2378, '편지': 2379, '신상': 2380, '알아내다': 2381, '분양': 2382, '푸다': 2383, '항': 2384, '닥치다': 2385, '수학': 2386, '차서': 2387, '담다': 2388, '비다': 2389, '잡음': 2390, '에타': 2391, '더러워지다': 2392, '일본만화': 2393, '법': 2394, '부메랑': 2395, '야심하다': 2396, '싱크대': 2397, '남편': 2398, 'ㅋㅋㅋㅋㅋㅋㅋㅋㅋㅋㅋㅋㅋㅋㅋ': 2399, '스타벅스': 2400, '사이렌': 2401, '성인': 2402, '조교': 2403, '존재': 2404, '애틋': 2405, '취직': 2406, '대형': 2407, '넘치다': 2408, '허구': 2409, '헌': 2410, '찡찡거리다': 2411, 'ㅠㅠㅠㅜㅜ': 2412, '달라': 2413, '얇다': 2414, '번개': 2415, '장터': 2416, '감정': 2417, '쓰레기통': 2418, '하루살이': 2419, '메일': 2420, '조카': 2421, '뚜레쥬르': 2422, '뺏다': 2423, '버슨데': 2424, '바다': 2425, '주방': 2426, '짤림': 2427, '사기꾼': 2428, '멈추다': 2429, '아메리카노': 2430, '바닐라': 2431, '슬픔': 2432, '지기': 2433, '저러다': 2434, '불쌍': 2435, '망연자실': 2436, '기르다': 2437, '룰루': 2438, '지독하다': 2439, '스파게티': 2440, '소스': 2441, '모양': 2442, '슬하': 2443, '갑작스레': 2444, '둘': 2445, '학년': 2446, '재학생': 2447, '지브리': 2448, '애니': 2449, '먹': 2450, '이전': 2451, '다음': 2452, '업뎃': 2453, '독도': 2454, '우기다': 2455, '가수': 2456, '풍경': 2457, '석식': 2458, '극치': 2459, '원': 2460, '탑': 2461, '생기': 2462, '본인': 2463, '겉옷': 2464, '달래': 2465, '고등학생': 2466, '포함': 2467, '통학': 2468, '남매': 2469, '무조건': 2470, '일수록': 2471, '막': 2472, '프레임': 2473, '층': 2474, '평소': 2475, '꼽주던': 2476, '고분고분하다': 2477, '통쾌': 2478, '양보': 2479, '화음': 2480, '각질': 2481, '마': 2482, '소녀': 2483, '웹': 2484, '이쯤': 2485, '다다': 2486, '음주': 2487, '소': 2488, '극적': 2489, '이어서': 2490, '지출': 2491, '감추다': 2492, '쓸쓸': 2493, '혀': 2494, '양성': 2495, '옮기다': 2496, '어어': 2497, '무': 2498, '험담': 2499, '하하': 2500, '잡히다': 2501, 'ㅏㄱ': 2502, '출현': 2503, '도대체': 2504, '먹기': 2505, '빌다': 2506, '금요일': 2507, 'ㅠㅋㅋㅋㅋㅋㅋㅋㅋㅋㅋㅋㅋㅋㅋㅋ': 2508, '해고': 2509, '통보': 2510, '요기': 2511, '요': 2512, '재': 2513, '곰': 2514, '삼성': 2515, '뮤직': 2516, '슈퍼문': 2517, '더니': 2518, '정이': 2519, '미워하다': 2520, '세트': 2521, '질문': 2522, '늘': 2523, '꺼리다': 2524, '파토': 2525, '군': 2526, '빼': 2527, '살리다': 2528, '인형': 2529, '쩌': 2530, 'ㄷㄷㄷ': 2531, '지경': 2532, '피어싱': 2533, '실패하다': 2534, '붇는': 2535, '큰소리': 2536, '끼다': 2537, '그러니까': 2538, '조금': 2539, '가식': 2540, '블랙': 2541, '온라인': 2542, '믿다': 2543, '꽃다발': 2544, '뭉치다': 2545, '조그만': 2546, '맡다': 2547, '바깥': 2548, '공기': 2549, '기도': 2550, '쓉': 2551, '어린이집': 2552, '첫출근': 2553, '횡단보도': 2554, '본': 2555, '줄알': 2556, '물회': 2557, '말끝': 2558, '노인': 2559, '증세': 2560, '앓다': 2561, '포스트잇': 2562, '붙이': 2563, '팔로우': 2564, '추악': 2565, '첨성대': 2566, '인정': 2567, '겨땀': 2568, '스터디': 2569, '범죄자': 2570, '기운': 2571, '과외': 2572, '죄송하다': 2573, '결과': 2574, '정반대': 2575, '카드': 2576, '바라지': 2577, '없어지다': 2578, '전개': 2579, '미성년': 2580, '몰래': 2581, '술집': 2582, '병행': 2583, '대견': 2584, '거절': 2585, '달래다': 2586, '뜰': 2587, '확인': 2588, '레알': 2589, '언급': 2590, '경주': 2591, '스쿨존': 2592, '구름': 2593, '망측하다': 2594, '절하': 2595, '레깅스': 2596, '만지다': 2597, '엿같다': 2598, '갖다': 2599, '살빠지다': 2600, '대화': 2601, '우유': 2602, '여드름': 2603, '자국': 2604, '만족하다': 2605, '외모': 2606, '평가': 2607, '빵집': 2608, '띠겁': 2609, '교통비': 2610, '아들': 2611, '족발': 2612, '염색': 2613, '전액': 2614, '앨범': 2615, '김연아': 2616, '조만간': 2617, '향수병': 2618, '찜': 2619, '굿': 2620, '새다': 2621, '커플': 2622, '솔로': 2623, '동아리활동': 2624, '개불': 2625, '쌍': 2626, '위안부': 2627, '발급': 2628, '호호': 2629, '노래방': 2630, '휘둥그레': 2631, '재미없다': 2632, '적외선': 2633, '집착': 2634, '야외': 2635, '소변': 2636, '가방': 2637, '핫싀': 2638, '반성': 2639, '착각': 2640, '페이지': 2641, '긁다': 2642, '정상': 2643, '수강신청': 2644, '기대': 2645, '무너지다': 2646, '날다': 2647, '무례하다': 2648, '공시생': 2649, '어리둥절쓰': 2650, '열받넼': 2651, '카카오': 2652, '왜이렿': 2653, '가능하다': 2654, '링북': 2655, '생각나다': 2656, '그만하다': 2657, '질리다': 2658, '욜': 2659, '케뱅': 2660, '예금': 2661, '이동': 2662, '경로': 2663, '재즈': 2664, '드럽다': 2665, '성폭행': 2666, '앜': 2667, '목표': 2668, '달성': 2669, '치팅': 2670, '데이': 2671, '입': 2672, '짧다': 2673, '뮬': 2674, '운동화': 2675, '신고': 2676, '꺾다': 2677, '신다': 2678, '했닼': 2679, '호텔': 2680, '늙다': 2681, '순수하다': 2682, '남사': 2683, '나서다': 2684, '부수': 2685, '인턴': 2686, '백수': 2687, '문두': 2688, '드리다': 2689, '풀다': 2690, '재택': 2691, '네일': 2692, '생일도': 2693, '주체': 2694, '교육부': 2695, '꿀밤': 2696, '연기력': 2697, '화요일': 2698, '입냄새': 2699, '산부인과': 2700, '붙다': 2701, '말좀': 2702, '들어주다': 2703, '별로': 2704, '궁금하다': 2705, '몰락하다': 2706, '고릴라': 2707, '상대방': 2708, '왕따': 2709, '취했다': 2710, '살아가다': 2711, '상상': 2712, '심심하다': 2713, '시국': 2714, '욕먹다': 2715, '만담': 2716, '카메라': 2717, '어플': 2718, '인식': 2719, '잠깐': 2720, '오류': 2721, '층간소음': 2722, '어느': 2723, '인지': 2724, '쏟아지다': 2725, '판매': 2726, '자가': 2727, '핸드': 2728, '포': 2729, '스마트폰': 2730, '두근두근': 2731, '싸': 2732, '캐다': 2733, '스피커': 2734, '고장': 2735, '레': 2736, '걸레': 2737, '너무나도': 2738, '다르다': 2739, '히피': 2740, '선장': 2741, '온갖': 2742, '싱': 2743, '경질': 2744, 'ㅏㅏㅏ': 2745, '토스터': 2746, '끼리끼리': 2747, '열정': 2748, '수가': 2749, '스산했어': 2750, '놀': 2751, '넴': 2752, '습도': 2753, '흉측': 2754, '사촌동생': 2755, '어린이날': 2756, '훈련': 2757, '해리포터': 2758, '라서': 2759, '전단지': 2760}\n"
     ]
    }
   ],
   "source": [
    "print(tokenizer.word_index)"
   ]
  },
  {
   "cell_type": "code",
   "execution_count": 28,
   "metadata": {},
   "outputs": [
    {
     "name": "stdout",
     "output_type": "stream",
     "text": [
      "단어 집합(vocabulary)의 크기 : 2760\n",
      "등장 빈도가 2번 이하인 희귀 단어의 수: 1849\n",
      "단어 집합에서 희귀 단어의 비율: 66.9927536231884\n",
      "전체 등장 빈도에서 희귀 단어 등장 빈도 비율: 15.186130896384894\n"
     ]
    }
   ],
   "source": [
    "threshold = 3\n",
    "total_cnt = len(tokenizer.word_index) # 단어의 수\n",
    "rare_cnt = 0 # 등장 빈도수가 threshold보다 작은 단어의 개수를 카운트\n",
    "total_freq = 0 # 훈련 데이터의 전체 단어 빈도수 총 합\n",
    "rare_freq = 0 # 등장 빈도수가 threshold보다 작은 단어의 등장 빈도수의 총 합\n",
    "\n",
    "# 단어와 빈도수의 쌍(pair)을 key와 value로 받는다.\n",
    "for key, value in tokenizer.word_counts.items():\n",
    "    total_freq = total_freq + value\n",
    "\n",
    "    # 단어의 등장 빈도수가 threshold보다 작으면\n",
    "    if(value < threshold):\n",
    "        rare_cnt = rare_cnt + 1\n",
    "        rare_freq = rare_freq + value\n",
    "\n",
    "print('단어 집합(vocabulary)의 크기 :',total_cnt)\n",
    "print('등장 빈도가 %s번 이하인 희귀 단어의 수: %s'%(threshold - 1, rare_cnt))\n",
    "print(\"단어 집합에서 희귀 단어의 비율:\", (rare_cnt / total_cnt)*100)\n",
    "print(\"전체 등장 빈도에서 희귀 단어 등장 빈도 비율:\", (rare_freq / total_freq)*100)"
   ]
  },
  {
   "cell_type": "code",
   "execution_count": 29,
   "metadata": {},
   "outputs": [
    {
     "name": "stdout",
     "output_type": "stream",
     "text": [
      "단어 집합의 크기 : 912\n"
     ]
    }
   ],
   "source": [
    "vocab_size = total_cnt - rare_cnt + 1 # 전체 단어 개수 중 빈도수 2이하인 단어 개수는 제거. 0번 패딩 토큰을 고려하여 +1\n",
    "print('단어 집합의 크기 :',vocab_size)"
   ]
  },
  {
   "cell_type": "code",
   "execution_count": 30,
   "metadata": {},
   "outputs": [],
   "source": [
    "tokenizer = Tokenizer(vocab_size) \n",
    "tokenizer.fit_on_texts(X_train)\n",
    "X_train = tokenizer.texts_to_sequences(X_train)\n",
    "X_test = tokenizer.texts_to_sequences(X_test)"
   ]
  },
  {
   "cell_type": "code",
   "execution_count": 31,
   "metadata": {},
   "outputs": [
    {
     "name": "stdout",
     "output_type": "stream",
     "text": [
      "[[22, 82, 250], [4, 274, 721, 722], [187, 129, 2, 514]]\n"
     ]
    }
   ],
   "source": [
    "print(X_train[:3])"
   ]
  },
  {
   "cell_type": "code",
   "execution_count": 32,
   "metadata": {},
   "outputs": [],
   "source": [
    "y_train = np.array(train_data['label'])\n",
    "y_test = np.array(test_data['label'])"
   ]
  },
  {
   "cell_type": "code",
   "execution_count": 33,
   "metadata": {},
   "outputs": [],
   "source": [
    "drop_train = [index for index, sentence in enumerate(X_train) if len(sentence) < 1]\n",
    "drop_test = [index for index, sentence in enumerate(X_test) if len(sentence) < 1]"
   ]
  },
  {
   "cell_type": "code",
   "execution_count": 34,
   "metadata": {},
   "outputs": [
    {
     "name": "stdout",
     "output_type": "stream",
     "text": [
      "2861\n",
      "2861\n"
     ]
    }
   ],
   "source": [
    "# 빈 샘플들을 제거\n",
    "X_train = np.delete(X_train, drop_train, axis=0)\n",
    "y_train = np.delete(y_train, drop_train, axis=0)\n",
    "print(len(X_train))\n",
    "print(len(y_train))"
   ]
  },
  {
   "cell_type": "code",
   "execution_count": 35,
   "metadata": {
    "scrolled": true
   },
   "outputs": [
    {
     "name": "stdout",
     "output_type": "stream",
     "text": [
      "941\n",
      "941\n"
     ]
    }
   ],
   "source": [
    "X_test = np.delete(X_test, drop_test, axis=0)\n",
    "y_test = np.delete(y_test, drop_test, axis=0)\n",
    "print(len(X_test))\n",
    "print(len(y_test))"
   ]
  },
  {
   "cell_type": "code",
   "execution_count": 36,
   "metadata": {},
   "outputs": [
    {
     "name": "stdout",
     "output_type": "stream",
     "text": [
      "데이터의 최대 길이 : 15\n",
      "데이터의 평균 길이 : 4.411744145403705\n"
     ]
    },
    {
     "data": {
      "image/png": "[encoded data removed]",
      "text/plain": [
       "<Figure size 432x288 with 1 Axes>"
      ]
     },
     "metadata": {
      "needs_background": "light"
     },
     "output_type": "display_data"
    }
   ],
   "source": [
    "print('데이터의 최대 길이 :',max(len(l) for l in X_train))\n",
    "print('데이터의 평균 길이 :',sum(map(len, X_train))/len(X_train))\n",
    "plt.hist([len(s) for s in X_train], bins=50)\n",
    "plt.xlabel('length of samples')\n",
    "plt.ylabel('number of samples')\n",
    "plt.show()"
   ]
  },
  {
   "cell_type": "code",
   "execution_count": 37,
   "metadata": {},
   "outputs": [],
   "source": [
    "def below_threshold_len(max_len, nested_list):\n",
    "  cnt = 0\n",
    "  for s in nested_list:\n",
    "    if(len(s) <= max_len):\n",
    "        cnt = cnt + 1\n",
    "  print('전체 샘플 중 길이가 %s 이하인 샘플의 비율: %s'%(max_len, (cnt / len(nested_list))*100))"
   ]
  },
  {
   "cell_type": "code",
   "execution_count": 38,
   "metadata": {},
   "outputs": [
    {
     "name": "stdout",
     "output_type": "stream",
     "text": [
      "전체 샘플 중 길이가 8 이하인 샘플의 비율: 96.26004893393917\n"
     ]
    }
   ],
   "source": [
    "max_len = 8\n",
    "below_threshold_len(max_len, X_train)"
   ]
  },
  {
   "cell_type": "code",
   "execution_count": 39,
   "metadata": {},
   "outputs": [],
   "source": [
    "X_train = pad_sequences(X_train, maxlen = max_len)\n",
    "X_test = pad_sequences(X_test, maxlen = max_len)"
   ]
  },
  {
   "cell_type": "code",
   "execution_count": 39,
   "metadata": {},
   "outputs": [],
   "source": [
    "from tensorflow.keras.layers import Embedding, Dense, LSTM, Input, GlobalMaxPooling1D\n",
    "from tensorflow.keras.models import Sequential\n",
    "from tensorflow.keras.models import load_model\n",
    "from tensorflow.keras.callbacks import EarlyStopping, ModelCheckpoint"
   ]
  },
  {
   "cell_type": "code",
   "execution_count": 40,
   "metadata": {},
   "outputs": [
    {
     "name": "stdout",
     "output_type": "stream",
     "text": [
      "Model: \"sequential\"\n",
      "_________________________________________________________________\n",
      "Layer (type)                 Output Shape              Param #   \n",
      "=================================================================\n",
      "embedding (Embedding)        (None, 8, 100)            91200     \n",
      "_________________________________________________________________\n",
      "lstm (LSTM)                  (None, 128)               117248    \n",
      "_________________________________________________________________\n",
      "output (Dense)               (None, 6)                 774       \n",
      "=================================================================\n",
      "Total params: 209,222\n",
      "Trainable params: 209,222\n",
      "Non-trainable params: 0\n",
      "_________________________________________________________________\n"
     ]
    }
   ],
   "source": [
    "model = Sequential()\n",
    "#model.add(Embedding(vocab_size, 100))\n",
    "model.add(Embedding(vocab_size, 100, input_shape=(max_len, )))\n",
    "#model.add(Embedding(vocab_size, 100))\n",
    "model.add(LSTM(128))\n",
    "model.add(Dense(6, activation='softmax', name='output'))\n",
    "model.summary()"
   ]
  },
  {
   "cell_type": "code",
   "execution_count": 41,
   "metadata": {},
   "outputs": [],
   "source": [
    "es = EarlyStopping(monitor='val_loss', mode='min', verbose=1, patience=5)\n",
    "mc = ModelCheckpoint('best_model.h5', monitor='val_acc', mode='max', verbose=1, save_best_only=True)"
   ]
  },
  {
   "cell_type": "code",
   "execution_count": 42,
   "metadata": {},
   "outputs": [
    {
     "name": "stdout",
     "output_type": "stream",
     "text": [
      "Epoch 1/20\n",
      "33/34 [============================>.] - ETA: 0s - loss: 1.7234 - acc: 0.3455\n",
      "Epoch 00001: val_acc improved from -inf to 0.37835, saving model to best_model.h5\n",
      "34/34 [==============================] - 2s 44ms/step - loss: 1.7214 - acc: 0.3492 - val_loss: 1.6009 - val_acc: 0.3783\n",
      "Epoch 2/20\n",
      "31/34 [==========================>...] - ETA: 0s - loss: 1.3095 - acc: 0.5833- ETA: 0s - loss: 1.3359 - acc: 0.567\n",
      "Epoch 00002: val_acc improved from 0.37835 to 0.62864, saving model to best_model.h5\n",
      "34/34 [==============================] - 1s 26ms/step - loss: 1.2889 - acc: 0.5904 - val_loss: 1.0892 - val_acc: 0.6286\n",
      "Epoch 3/20\n",
      "33/34 [============================>.] - ETA: 0s - loss: 0.6795 - acc: 0.8374\n",
      "Epoch 00003: val_acc improved from 0.62864 to 0.77765, saving model to best_model.h5\n",
      "34/34 [==============================] - 1s 20ms/step - loss: 0.6769 - acc: 0.8372 - val_loss: 0.7073 - val_acc: 0.7776\n",
      "Epoch 4/20\n",
      "34/34 [==============================] - ETA: 0s - loss: 0.3472 - acc: 0.9126\n",
      "Epoch 00004: val_acc improved from 0.77765 to 0.85565, saving model to best_model.h5\n",
      "34/34 [==============================] - 1s 21ms/step - loss: 0.3472 - acc: 0.9126 - val_loss: 0.4732 - val_acc: 0.8556\n",
      "Epoch 5/20\n",
      "34/34 [==============================] - ETA: 0s - loss: 0.2081 - acc: 0.9500\n",
      "Epoch 00005: val_acc improved from 0.85565 to 0.89057, saving model to best_model.h5\n",
      "34/34 [==============================] - 1s 21ms/step - loss: 0.2081 - acc: 0.9500 - val_loss: 0.3802 - val_acc: 0.8906\n",
      "Epoch 6/20\n",
      "32/34 [===========================>..] - ETA: 0s - loss: 0.1353 - acc: 0.9677\n",
      "Epoch 00006: val_acc improved from 0.89057 to 0.91735, saving model to best_model.h5\n",
      "34/34 [==============================] - 1s 21ms/step - loss: 0.1312 - acc: 0.9690 - val_loss: 0.2873 - val_acc: 0.9173\n",
      "Epoch 7/20\n",
      "32/34 [===========================>..] - ETA: 0s - loss: 0.0921 - acc: 0.9766- ETA: 0s - loss: 0.0941 - acc: 0.974\n",
      "Epoch 00007: val_acc improved from 0.91735 to 0.92666, saving model to best_model.h5\n",
      "34/34 [==============================] - 1s 22ms/step - loss: 0.0914 - acc: 0.9765 - val_loss: 0.2690 - val_acc: 0.9267\n",
      "Epoch 8/20\n",
      "34/34 [==============================] - ETA: 0s - loss: 0.0638 - acc: 0.9845\n",
      "Epoch 00008: val_acc improved from 0.92666 to 0.93248, saving model to best_model.h5\n",
      "34/34 [==============================] - 1s 22ms/step - loss: 0.0638 - acc: 0.9845 - val_loss: 0.2483 - val_acc: 0.9325\n",
      "Epoch 9/20\n",
      "32/34 [===========================>..] - ETA: 0s - loss: 0.0523 - acc: 0.9870\n",
      "Epoch 00009: val_acc improved from 0.93248 to 0.93364, saving model to best_model.h5\n",
      "34/34 [==============================] - 1s 21ms/step - loss: 0.0509 - acc: 0.9875 - val_loss: 0.2620 - val_acc: 0.9336\n",
      "Epoch 10/20\n",
      "33/34 [============================>.] - ETA: 0s - loss: 0.0377 - acc: 0.991 - ETA: 0s - loss: 0.0408 - acc: 0.9904\n",
      "Epoch 00010: val_acc did not improve from 0.93364\n",
      "34/34 [==============================] - 1s 21ms/step - loss: 0.0407 - acc: 0.9905 - val_loss: 0.2303 - val_acc: 0.9313\n",
      "Epoch 11/20\n",
      "31/34 [==========================>...] - ETA: 0s - loss: 0.0345 - acc: 0.9903\n",
      "Epoch 00011: val_acc improved from 0.93364 to 0.93481, saving model to best_model.h5\n",
      "34/34 [==============================] - 1s 26ms/step - loss: 0.0345 - acc: 0.9905 - val_loss: 0.2685 - val_acc: 0.9348\n",
      "Epoch 12/20\n",
      "34/34 [==============================] - ETA: 0s - loss: 0.0253 - acc: 0.9935\n",
      "Epoch 00012: val_acc improved from 0.93481 to 0.93714, saving model to best_model.h5\n",
      "34/34 [==============================] - 1s 25ms/step - loss: 0.0253 - acc: 0.9935 - val_loss: 0.2744 - val_acc: 0.9371\n",
      "Epoch 13/20\n",
      "34/34 [==============================] - ETA: 0s - loss: 0.0221 - acc: 0.9950\n",
      "Epoch 00013: val_acc did not improve from 0.93714\n",
      "34/34 [==============================] - 1s 22ms/step - loss: 0.0221 - acc: 0.9950 - val_loss: 0.3376 - val_acc: 0.9173\n",
      "Epoch 14/20\n",
      "32/34 [===========================>..] - ETA: 0s - loss: 0.0148 - acc: 0.9958\n",
      "Epoch 00014: val_acc did not improve from 0.93714\n",
      "34/34 [==============================] - 1s 20ms/step - loss: 0.0176 - acc: 0.9955 - val_loss: 0.3094 - val_acc: 0.9278\n",
      "Epoch 15/20\n",
      "32/34 [===========================>..] - ETA: 0s - loss: 0.0158 - acc: 0.9964\n",
      "Epoch 00015: val_acc did not improve from 0.93714\n",
      "34/34 [==============================] - 1s 21ms/step - loss: 0.0153 - acc: 0.9965 - val_loss: 0.3083 - val_acc: 0.9348\n",
      "Epoch 00015: early stopping\n"
     ]
    }
   ],
   "source": [
    "model.compile(optimizer='rmsprop', loss='sparse_categorical_crossentropy', metrics=['acc'])\n",
    "history = model.fit(X_train, y_train, epochs=20, callbacks=[es, mc], batch_size=60, validation_split=0.3)"
   ]
  },
  {
   "cell_type": "code",
   "execution_count": 43,
   "metadata": {},
   "outputs": [
    {
     "name": "stdout",
     "output_type": "stream",
     "text": [
      "30/30 [==============================] - 0s 5ms/step - loss: 0.2799 - acc: 0.9160\n",
      "\n",
      " 테스트 정확도: 0.9160\n"
     ]
    }
   ],
   "source": [
    "loaded_model = load_model('best_model.h5')\n",
    "print(\"\\n 테스트 정확도: %.4f\" % (loaded_model.evaluate(X_test, y_test)[1]))"
   ]
  },
  {
   "cell_type": "code",
   "execution_count": 44,
   "metadata": {},
   "outputs": [
    {
     "data": {
      "image/png": "[encoded data removed]",
      "text/plain": [
       "<Figure size 432x288 with 1 Axes>"
      ]
     },
     "metadata": {
      "needs_background": "light"
     },
     "output_type": "display_data"
    }
   ],
   "source": [
    "epochs = range(1, len(history.history['acc']) + 1)\n",
    "plt.plot(epochs, history.history['acc'])\n",
    "plt.plot(epochs, history.history['val_acc'])\n",
    "plt.ylabel('accuracy')\n",
    "plt.xlabel('epoch')\n",
    "plt.legend(['train', 'val'], loc='lower right')\n",
    "plt.show()"
   ]
  },
  {
   "cell_type": "code",
   "execution_count": 45,
   "metadata": {},
   "outputs": [
    {
     "data": {
      "image/png": "[encoded data removed]",
      "text/plain": [
       "<Figure size 432x288 with 1 Axes>"
      ]
     },
     "metadata": {
      "needs_background": "light"
     },
     "output_type": "display_data"
    }
   ],
   "source": [
    "epochs = range(1, len(history.history['acc']) + 1)\n",
    "plt.plot(epochs, history.history['loss'])\n",
    "plt.plot(epochs, history.history['val_loss'])\n",
    "plt.title('model loss')\n",
    "plt.ylabel('loss')\n",
    "plt.xlabel('epoch')\n",
    "plt.legend(['train', 'test'], loc='upper left')\n",
    "plt.show()"
   ]
  },
  {
   "cell_type": "code",
   "execution_count": 46,
   "metadata": {},
   "outputs": [
    {
     "name": "stdout",
     "output_type": "stream",
     "text": [
      "WARNING:tensorflow:From C:\\Users\\lg\\anaconda3\\envs\\tensorflow\\lib\\site-packages\\tensorflow\\python\\ops\\resource_variable_ops.py:1817: calling BaseResourceVariable.__init__ (from tensorflow.python.ops.resource_variable_ops) with constraint is deprecated and will be removed in a future version.\n",
      "Instructions for updating:\n",
      "If using Keras pass *_constraint arguments to layers.\n",
      "INFO:tensorflow:Assets written to: ./New_LSTM\\assets\n"
     ]
    }
   ],
   "source": [
    "model = load_model('best_model.h5', compile=False)\n",
    "\n",
    "export_path = './New_LSTM'\n",
    "model.save(export_path, save_format=\"tf\")"
   ]
  },
  {
   "cell_type": "code",
   "execution_count": 47,
   "metadata": {},
   "outputs": [
    {
     "data": {
      "text/plain": [
       "860084"
      ]
     },
     "execution_count": 47,
     "metadata": {},
     "output_type": "execute_result"
    }
   ],
   "source": [
    "import tensorflow as tf\n",
    "\n",
    "converter = tf.lite.TFLiteConverter.from_keras_model(model)\n",
    "converter.post_training_quantize = True\n",
    "tflite_model = converter.convert()\n",
    "\n",
    "open('./New_LSTM/new_lstm_model.tflite', 'wb').write(tflite_model)"
   ]
  },
  {
   "cell_type": "code",
   "execution_count": 44,
   "metadata": {},
   "outputs": [
    {
     "name": "stdout",
     "output_type": "stream",
     "text": [
      "짜증나\n",
      "['짜증나다']\n",
      "[[18]]\n",
      "[[ 0.  0.  0.  0.  0.  0.  0. 18.]]\n",
      "[4.1138774e-06 2.2488639e-04 9.9942267e-01 1.3684647e-06 1.0324563e-06\n",
      " 3.4603957e-04]\n",
      "분노\n"
     ]
    }
   ],
   "source": [
    "import tensorflow as tf\n",
    "import numpy as np\n",
    "from konlpy.tag import Okt\n",
    "\n",
    "interpreter = tf.lite.Interpreter(model_path='./New_LSTM/new_lstm_model.tflite')\n",
    "interpreter.allocate_tensors()\n",
    "\n",
    "input_index = interpreter.get_input_details()[0]['index']\n",
    "output = interpreter.tensor(interpreter.get_output_details()[0][\"index\"])\n",
    "\n",
    "test_data=input()\n",
    "\n",
    "N_test = []\n",
    "temp_X = []\n",
    "temp_X = okt.morphs(test_data, stem=True) # 토큰화\n",
    "#print(temp_X)\n",
    "temp_X = [word for word in temp_X if not word in stopwords] # 불용어 제거\n",
    "print(temp_X)\n",
    "N_test.append(temp_X)\n",
    "\n",
    "N_test = tokenizer.texts_to_sequences(N_test)\n",
    "print(N_test)\n",
    "N_test = pad_sequences(N_test, maxlen = max_len)\n",
    "N_test = N_test.astype(dtype=np.float32)\n",
    "print(N_test)\n",
    "\n",
    "interpreter.set_tensor(input_index, N_test)\n",
    "interpreter.invoke()\n",
    "\n",
    "label = [\"기쁨\", \"슬픔\", \"분노\", \"놀람\", \"공포\", \"혐오\"]\n",
    "\n",
    "predict_label = np.argmax(output()[0])\n",
    "# Get label name with label index.\n",
    "predict_label_name = label[predict_label]\n",
    "print(predict_label_name)"
   ]
  },
  {
   "cell_type": "code",
   "execution_count": null,
   "metadata": {},
   "outputs": [],
   "source": []
  },
  {
   "cell_type": "code",
   "execution_count": 49,
   "metadata": {},
   "outputs": [
    {
     "name": "stdout",
     "output_type": "stream",
     "text": [
      "너무 짜증나\n",
      "WARNING:tensorflow:From <ipython-input-49-7df63c3a8451>:22: Sequential.predict_classes (from tensorflow.python.keras.engine.sequential) is deprecated and will be removed after 2021-01-01.\n",
      "Instructions for updating:\n",
      "Please use instead:* `np.argmax(model.predict(x), axis=-1)`,   if your model does multi-class classification   (e.g. if it uses a `softmax` last-layer activation).* `(model.predict(x) > 0.5).astype(\"int32\")`,   if your model does binary classification   (e.g. if it uses a `sigmoid` last-layer activation).\n"
     ]
    },
    {
     "name": "stderr",
     "output_type": "stream",
     "text": [
      "WARNING:tensorflow:From <ipython-input-49-7df63c3a8451>:22: Sequential.predict_classes (from tensorflow.python.keras.engine.sequential) is deprecated and will be removed after 2021-01-01.\n",
      "Instructions for updating:\n",
      "Please use instead:* `np.argmax(model.predict(x), axis=-1)`,   if your model does multi-class classification   (e.g. if it uses a `softmax` last-layer activation).* `(model.predict(x) > 0.5).astype(\"int32\")`,   if your model does binary classification   (e.g. if it uses a `sigmoid` last-layer activation).\n"
     ]
    },
    {
     "name": "stdout",
     "output_type": "stream",
     "text": [
      "[2]\n",
      "[{'name': 'embedding_input', 'index': 0, 'shape': array([1, 8]), 'shape_signature': array([1, 8]), 'dtype': <class 'numpy.float32'>, 'quantization': (0.0, 0), 'quantization_parameters': {'scales': array([], dtype=float32), 'zero_points': array([], dtype=int32), 'quantized_dimension': 0}, 'sparsity_parameters': {}}]\n",
      "[{'name': 'Identity', 'index': 44, 'shape': array([], dtype=int32), 'shape_signature': array([], dtype=int32), 'dtype': <class 'numpy.float32'>, 'quantization': (0.0, 0), 'quantization_parameters': {'scales': array([], dtype=float32), 'zero_points': array([], dtype=int32), 'quantized_dimension': 0}, 'sparsity_parameters': {}}]\n",
      "[1 8]\n",
      "0\n",
      "44\n",
      "[[ 0.  0.  0.  0.  0.  0.  1. 18.]]\n",
      "output: [[6.4032229e-06 4.2296009e-04 9.9902070e-01 1.0882836e-06 3.3239353e-06\n",
      "  5.4556661e-04]]\n",
      "output_data: [6.4032229e-06 4.2296009e-04 9.9902070e-01 1.0882836e-06 3.3239353e-06\n",
      " 5.4556661e-04]\n",
      "model_result: 분노\n",
      "[[ 0.  0.  0.  0.  0.  0.  1. 18.]]\n",
      "7\n"
     ]
    },
    {
     "ename": "IndexError",
     "evalue": "list index out of range",
     "output_type": "error",
     "traceback": [
      "\u001b[1;31m---------------------------------------------------------------------------\u001b[0m",
      "\u001b[1;31mIndexError\u001b[0m                                Traceback (most recent call last)",
      "\u001b[1;32m<ipython-input-49-7df63c3a8451>\u001b[0m in \u001b[0;36m<module>\u001b[1;34m\u001b[0m\n\u001b[0;32m     61\u001b[0m \u001b[0mprint\u001b[0m\u001b[1;33m(\u001b[0m\u001b[0my_predict\u001b[0m\u001b[1;33m)\u001b[0m\u001b[1;33m\u001b[0m\u001b[1;33m\u001b[0m\u001b[0m\n\u001b[0;32m     62\u001b[0m \u001b[0mprint\u001b[0m\u001b[1;33m(\u001b[0m\u001b[0mnp\u001b[0m\u001b[1;33m.\u001b[0m\u001b[0margmax\u001b[0m\u001b[1;33m(\u001b[0m\u001b[0my_predict\u001b[0m\u001b[1;33m[\u001b[0m\u001b[1;36m0\u001b[0m\u001b[1;33m]\u001b[0m\u001b[1;33m)\u001b[0m\u001b[1;33m)\u001b[0m\u001b[1;33m\u001b[0m\u001b[1;33m\u001b[0m\u001b[0m\n\u001b[1;32m---> 63\u001b[1;33m \u001b[0mprint\u001b[0m\u001b[1;33m(\u001b[0m\u001b[0mlabel\u001b[0m\u001b[1;33m[\u001b[0m\u001b[0mnp\u001b[0m\u001b[1;33m.\u001b[0m\u001b[0margmax\u001b[0m\u001b[1;33m(\u001b[0m\u001b[0my_predict\u001b[0m\u001b[1;33m[\u001b[0m\u001b[1;36m0\u001b[0m\u001b[1;33m]\u001b[0m\u001b[1;33m)\u001b[0m\u001b[1;33m]\u001b[0m\u001b[1;33m)\u001b[0m\u001b[1;33m\u001b[0m\u001b[1;33m\u001b[0m\u001b[0m\n\u001b[0m",
      "\u001b[1;31mIndexError\u001b[0m: list index out of range"
     ]
    }
   ],
   "source": [
    "import tensorflow as tf\n",
    "import numpy as np\n",
    "from konlpy.tag import Okt\n",
    "\n",
    "interpreter = tf.lite.Interpreter(model_path='./New_LSTM/new_lstm_model.tflite')\n",
    "interpreter.allocate_tensors()\n",
    "\n",
    "test_data=input()\n",
    "\n",
    "#okt = Okt()\n",
    "#stopwords = ['의','가','이','은','들','는','좀','잘','걍','과','도','를','으로','자','에','와','한','하다']\n",
    "\n",
    "N_test = []\n",
    "temp_X = []\n",
    "temp_X = okt.morphs(test_data, stem=True) # 토큰화\n",
    "temp_X = [word for word in temp_X if not word in stopwords] # 불용어 제거\n",
    "N_test.append(temp_X)\n",
    "\n",
    "N_test = tokenizer.texts_to_sequences(N_test)\n",
    "N_test = pad_sequences(N_test, maxlen = max_len)\n",
    "\n",
    "predict_class=model.predict_classes(N_test)\n",
    "print(predict_class.T)\n",
    "\n",
    "input_details = interpreter.get_input_details()\n",
    "output_details = interpreter.get_output_details()\n",
    "print(input_details)\n",
    "print(output_details)\n",
    "\n",
    "print(input_details[0]['shape']) #[1 563]\n",
    "print(input_details[0]['index']) #0\n",
    "print(output_details[0]['index']) #44\n",
    "\n",
    "N_test = N_test.astype(dtype=np.float32)\n",
    "\n",
    "print(N_test)\n",
    "\n",
    "#input_details[0]['index'] = input_details[0]['index'].astype(dtype=np.float32)\n",
    "#input_details[0]['index'] = tf.cast(input_details[0]['index'], tf.float32)\n",
    "\n",
    "interpreter.set_tensor(input_details[0]['index'],N_test)\n",
    "interpreter.invoke()\n",
    "\n",
    "output_data = interpreter.get_tensor(output_details[0]['index'])\n",
    "print(\"output:\",output_data)\n",
    "\n",
    "result = []\n",
    "output_data = interpreter.get_tensor(output_details[0]['index'])\n",
    "result.append(output_data)\n",
    "print(\"output_data:\", np.reshape(result, -1))\n",
    "\n",
    "label = [\"기쁨\", \"슬픔\", \"분노\"]\n",
    "y_predict = interpreter.get_tensor(0)\n",
    "\n",
    "predict = np.reshape(result, -1)\n",
    "\n",
    "y_predict = model(N_test).numpy()\n",
    "print(\"model_result:\", label[np.argmax(y_predict[0])])\n",
    "\n",
    "y_predict = interpreter.get_tensor(0)\n",
    "print(y_predict)\n",
    "print(np.argmax(y_predict[0]))\n",
    "print(label[np.argmax(y_predict[0])])\n"
   ]
  },
  {
   "cell_type": "raw",
   "metadata": {},
   "source": [
    "import tensorflow as tf\n",
    "\n",
    "saved_model_dir='./LSTM2'\n",
    "\n",
    "\n",
    "converter = tf.lite.TFLiteConverter.from_saved_model(saved_model_dir)\n",
    "#converter.target_spec.supported_ops = [tf.lite.OpsSet.TFLITE_BUILTINS, tf.lite.OpsSet.SELECT_TF_OPS]\n",
    "\n",
    "#converter = tf.compat.v1.lite.TFLiteConverter.from_keras_model_file(model)\n",
    "#converter.target_spec.supported_ops = [tf.lite.OpsSet.TFLITE_BUILTINS, tf.lite.OpsSet.SELECT_TF_OPS]\n",
    "\n",
    "#converter = tf.lite.TFLiteConverter.from_keras_model(model)\n",
    "#converter.experimental_new_converter = True\n",
    "\n",
    "#converter = tf.compat.v1.lite.TFLiteConverter.from_keras_model_file(\n",
    "#    'best_model.h5',\n",
    "    #input_shapes={'embedding_input': [1, vocab_size]})\n",
    "#    input_shapes={'embedding_input':[3,5]})\n",
    "\n",
    "#converter = tf.contrib.lite.TFLiteConverter.from_keras_model_file('best_model.h5')\n",
    "\n",
    "#converter = tf.compat.v1.lite.TFLiteConverter.from_saved_model(saved_model_dir, input_arrays=None, input_shapes=None, output_arrays=None, tag_set=None, signature_key=None)\n",
    "#converter.target_spec.supported_ops = [tf.lite.OpsSet.TFLITE_BUILTINS, tf.lite.OpsSet.SELECT_TF_OPS]\n",
    "\n",
    "tflite_model = converter.convert()\n",
    "\n",
    "open('./LSTM2/lstm_converted_model.tflite', 'wb').write(tflite_model)\n"
   ]
  },
  {
   "cell_type": "raw",
   "metadata": {
    "scrolled": true
   },
   "source": [
    "loaded_model = load_model('best_model.h5')\n",
    "\n",
    "#predictions = model.predict(X_test)\n",
    "#print(predictions[0:400].T)\n",
    "\n",
    "#predict_class=model.predict_classes(X_test)\n",
    "#print(predict_class[0:400].T)\n",
    "\n",
    "\n",
    "test_data=pd.read_table('new_test.txt')\n",
    "\n",
    "okt = Okt()\n",
    "\n",
    "N_test = []\n",
    "for sentence in test_data['Document']:\n",
    "    temp_X = []\n",
    "    temp_X = okt.morphs(sentence, stem=True) # 토큰화\n",
    "    temp_X = [word for word in temp_X if not word in stopwords] # 불용어 제거\n",
    "    N_test.append(temp_X)\n",
    "\n",
    "N_test = tokenizer.texts_to_sequences(N_test)\n",
    "N_test = pad_sequences(N_test, maxlen = max_len)\n",
    "\n",
    "predict_class=model.predict_classes(N_test)\n",
    "print(predict_class[0:6].T)\n",
    "\n",
    "\n",
    "#predict = model.predict(X_test)\n",
    "#import numpy as np\n",
    "#predict_labels = np.argmax(predict, axis=0)\n",
    "#original_labels = np.argmax(y_test, axis=0)\n",
    "\n",
    "#for i in range(400): \n",
    "#    print(\"텍스트 : \", test_data['Document'].iloc[i], \"/\\t 원래 라벨 : \", original_labels[i], \"/\\t예측한 라벨 : \", predict_labels[i])\n",
    "\n"
   ]
  },
  {
   "cell_type": "code",
   "execution_count": 84,
   "metadata": {},
   "outputs": [
    {
     "name": "stdout",
     "output_type": "stream",
     "text": [
      "[2]\n"
     ]
    }
   ],
   "source": [
    "#text = input()\n",
    "\n",
    "test_data=pd.read_table('untitled.txt')\n",
    "\n",
    "N_test = []\n",
    "for sentence in test_data['Document']:\n",
    "    temp_X = []\n",
    "    temp_X = okt.morphs(sentence, stem=True) # 토큰화\n",
    "    temp_X = [word for word in temp_X if not word in stopwords] # 불용어 제거\n",
    "    N_test.append(temp_X)\n",
    "\n",
    "N_test = tokenizer.texts_to_sequences(N_test)\n",
    "N_test = pad_sequences(N_test, maxlen = max_len)\n",
    "\n",
    "predict_class=model.predict_classes(N_test)\n",
    "print(predict_class[0:5].T)"
   ]
  },
  {
   "cell_type": "code",
   "execution_count": 76,
   "metadata": {},
   "outputs": [
    {
     "name": "stdout",
     "output_type": "stream",
     "text": [
      "짜증나\n",
      "[['짜증나다']]\n",
      "[2]\n"
     ]
    }
   ],
   "source": [
    "from konlpy.tag import Okt\n",
    "okt = Okt()\n",
    "\n",
    "test_data=input()\n",
    "\n",
    "N_test = []\n",
    "temp_X = []\n",
    "temp_X = okt.morphs(test_data, stem=True) # 토큰화\n",
    "temp_X = [word for word in temp_X if not word in stopwords] # 불용어 제거\n",
    "N_test.append(temp_X)\n",
    "#N_test.append(test_data)\n",
    "print(N_test)\n",
    "\n",
    "N_test = tokenizer.texts_to_sequences(N_test)\n",
    "N_test = pad_sequences(N_test, maxlen = max_len)\n",
    "\n",
    "predict_class=model.predict_classes(N_test)\n",
    "print(predict_class.T)\n",
    "\n"
   ]
  },
  {
   "cell_type": "code",
   "execution_count": 142,
   "metadata": {},
   "outputs": [
    {
     "name": "stdout",
     "output_type": "stream",
     "text": [
      "더러워\n",
      "WARNING:tensorflow:From <ipython-input-142-a6b27c5b4295>:15: Sequential.predict_classes (from tensorflow.python.keras.engine.sequential) is deprecated and will be removed after 2021-01-01.\n",
      "Instructions for updating:\n",
      "Please use instead:* `np.argmax(model.predict(x), axis=-1)`,   if your model does multi-class classification   (e.g. if it uses a `softmax` last-layer activation).* `(model.predict(x) > 0.5).astype(\"int32\")`,   if your model does binary classification   (e.g. if it uses a `sigmoid` last-layer activation).\n"
     ]
    },
    {
     "name": "stderr",
     "output_type": "stream",
     "text": [
      "WARNING:tensorflow:From <ipython-input-142-a6b27c5b4295>:15: Sequential.predict_classes (from tensorflow.python.keras.engine.sequential) is deprecated and will be removed after 2021-01-01.\n",
      "Instructions for updating:\n",
      "Please use instead:* `np.argmax(model.predict(x), axis=-1)`,   if your model does multi-class classification   (e.g. if it uses a `softmax` last-layer activation).* `(model.predict(x) > 0.5).astype(\"int32\")`,   if your model does binary classification   (e.g. if it uses a `sigmoid` last-layer activation).\n"
     ]
    },
    {
     "name": "stdout",
     "output_type": "stream",
     "text": [
      "[5]\n",
      "혐오\n"
     ]
    }
   ],
   "source": [
    "from konlpy.tag import Okt\n",
    "okt = Okt()\n",
    "\n",
    "test_data=input()\n",
    "\n",
    "N_test = []\n",
    "temp_X = []\n",
    "temp_X = okt.morphs(test_data, stem=True) # 토큰화\n",
    "temp_X = [word for word in temp_X if not word in stopwords] # 불용어 제거\n",
    "N_test.append(temp_X)\n",
    "\n",
    "N_test = tokenizer.texts_to_sequences(N_test)\n",
    "N_test = pad_sequences(N_test, maxlen = max_len)\n",
    "\n",
    "predict_class=model.predict_classes(N_test)\n",
    "print(predict_class.T)\n",
    "\n",
    "if(predict_class.T == 0):\n",
    "    print(\"기쁨\")\n",
    "if(predict_class.T == 1):\n",
    "    print(\"슬픔\")\n",
    "if(predict_class.T == 2):\n",
    "    print(\"분노\")\n",
    "if(predict_class.T == 3):\n",
    "    print(\"놀람\")\n",
    "if(predict_class.T == 4):\n",
    "    print(\"공포\")\n",
    "if(predict_class.T == 5):\n",
    "    print(\"혐오\")"
   ]
  },
  {
   "cell_type": "code",
   "execution_count": null,
   "metadata": {},
   "outputs": [],
   "source": []
  },
  {
   "cell_type": "code",
   "execution_count": null,
   "metadata": {},
   "outputs": [],
   "source": []
  }
 ],
 "metadata": {
  "kernelspec": {
   "display_name": "Python 3",
   "language": "python",
   "name": "python3"
  },
  "language_info": {
   "codemirror_mode": {
    "name": "ipython",
    "version": 3
   },
   "file_extension": ".py",
   "mimetype": "text/x-python",
   "name": "python",
   "nbconvert_exporter": "python",
   "pygments_lexer": "ipython3",
   "version": "3.7.7"
  }
 },
 "nbformat": 4,
 "nbformat_minor": 4
}
