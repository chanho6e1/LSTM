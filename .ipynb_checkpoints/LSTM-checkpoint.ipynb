{
 "cells": [
  {
   "cell_type": "code",
   "execution_count": 2,
   "metadata": {},
   "outputs": [],
   "source": [
    "import pandas as pd\n",
    "import urllib.request\n",
    "%matplotlib inline\n",
    "import matplotlib.pyplot as plt\n",
    "import re\n",
    "from konlpy.tag import Okt\n",
    "from tensorflow.keras.preprocessing.text import Tokenizer\n",
    "import numpy as np\n",
    "from tensorflow.keras.preprocessing.sequence import pad_sequences"
   ]
  },
  {
   "cell_type": "code",
   "execution_count": 3,
   "metadata": {},
   "outputs": [],
   "source": [
    "train_data = pd.read_table('train.txt')\n",
    "test_data = pd.read_table('test.txt')"
   ]
  },
  {
   "cell_type": "code",
   "execution_count": 4,
   "metadata": {},
   "outputs": [
    {
     "name": "stdout",
     "output_type": "stream",
     "text": [
      "훈련용 데이터 개수 : 2900\n"
     ]
    },
    {
     "data": {
      "text/html": [
       "<div>\n",
       "<style scoped>\n",
       "    .dataframe tbody tr th:only-of-type {\n",
       "        vertical-align: middle;\n",
       "    }\n",
       "\n",
       "    .dataframe tbody tr th {\n",
       "        vertical-align: top;\n",
       "    }\n",
       "\n",
       "    .dataframe thead th {\n",
       "        text-align: right;\n",
       "    }\n",
       "</style>\n",
       "<table border=\"1\" class=\"dataframe\">\n",
       "  <thead>\n",
       "    <tr style=\"text-align: right;\">\n",
       "      <th></th>\n",
       "      <th>Document</th>\n",
       "      <th>label</th>\n",
       "    </tr>\n",
       "  </thead>\n",
       "  <tbody>\n",
       "    <tr>\n",
       "      <th>0</th>\n",
       "      <td>넘 두렵다ㅠㅠㅠㅠ</td>\n",
       "      <td>4</td>\n",
       "    </tr>\n",
       "    <tr>\n",
       "      <th>1</th>\n",
       "      <td>아놔 코 막혀</td>\n",
       "      <td>2</td>\n",
       "    </tr>\n",
       "    <tr>\n",
       "      <th>2</th>\n",
       "      <td>교수님 진짜 밉다...</td>\n",
       "      <td>2</td>\n",
       "    </tr>\n",
       "    <tr>\n",
       "      <th>3</th>\n",
       "      <td>다이어트 하니까 약속 나갈 때마다 곤욕이닾</td>\n",
       "      <td>1</td>\n",
       "    </tr>\n",
       "    <tr>\n",
       "      <th>4</th>\n",
       "      <td>인간수업 광고 너무 징그러워..</td>\n",
       "      <td>5</td>\n",
       "    </tr>\n",
       "  </tbody>\n",
       "</table>\n",
       "</div>"
      ],
      "text/plain": [
       "                  Document  label\n",
       "0                넘 두렵다ㅠㅠㅠㅠ      4\n",
       "1                  아놔 코 막혀      2\n",
       "2             교수님 진짜 밉다...      2\n",
       "3  다이어트 하니까 약속 나갈 때마다 곤욕이닾      1\n",
       "4        인간수업 광고 너무 징그러워..      5"
      ]
     },
     "execution_count": 4,
     "metadata": {},
     "output_type": "execute_result"
    }
   ],
   "source": [
    "print('훈련용 데이터 개수 :',len(train_data))\n",
    "train_data[:5]"
   ]
  },
  {
   "cell_type": "code",
   "execution_count": 5,
   "metadata": {},
   "outputs": [
    {
     "data": {
      "text/plain": [
       "(2892, 6)"
      ]
     },
     "execution_count": 5,
     "metadata": {},
     "output_type": "execute_result"
    }
   ],
   "source": [
    "train_data['Document'].nunique(), train_data['label'].nunique()"
   ]
  },
  {
   "cell_type": "code",
   "execution_count": 6,
   "metadata": {},
   "outputs": [],
   "source": [
    "train_data.drop_duplicates(subset=['Document'], inplace=True)"
   ]
  },
  {
   "cell_type": "code",
   "execution_count": 7,
   "metadata": {},
   "outputs": [
    {
     "name": "stdout",
     "output_type": "stream",
     "text": [
      "총 샘플의 수 : 2892\n"
     ]
    }
   ],
   "source": [
    "print('총 샘플의 수 :',len(train_data))"
   ]
  },
  {
   "cell_type": "code",
   "execution_count": 8,
   "metadata": {},
   "outputs": [
    {
     "data": {
      "text/plain": [
       "<matplotlib.axes._subplots.AxesSubplot at 0x25a3e850e08>"
      ]
     },
     "execution_count": 8,
     "metadata": {},
     "output_type": "execute_result"
    },
    {
     "data": {
      "image/png": "[encoded data removed]",
      "text/plain": [
       "<Figure size 432x288 with 1 Axes>"
      ]
     },
     "metadata": {
      "needs_background": "light"
     },
     "output_type": "display_data"
    }
   ],
   "source": [
    "train_data['label'].value_counts().plot(kind = 'bar')"
   ]
  },
  {
   "cell_type": "code",
   "execution_count": 9,
   "metadata": {},
   "outputs": [
    {
     "name": "stdout",
     "output_type": "stream",
     "text": [
      "   label  count\n",
      "0      0    518\n",
      "1      1    560\n",
      "2      2    558\n",
      "3      3    419\n",
      "4      4    349\n",
      "5      5    488\n"
     ]
    }
   ],
   "source": [
    "print(train_data.groupby('label').size().reset_index(name = 'count'))"
   ]
  },
  {
   "cell_type": "code",
   "execution_count": 10,
   "metadata": {},
   "outputs": [
    {
     "name": "stdout",
     "output_type": "stream",
     "text": [
      "False\n"
     ]
    }
   ],
   "source": [
    "print(train_data.isnull().values.any())"
   ]
  },
  {
   "cell_type": "code",
   "execution_count": 11,
   "metadata": {},
   "outputs": [
    {
     "name": "stdout",
     "output_type": "stream",
     "text": [
      "Document    0\n",
      "label       0\n",
      "dtype: int64\n"
     ]
    }
   ],
   "source": [
    "print(train_data.isnull().sum())"
   ]
  },
  {
   "cell_type": "code",
   "execution_count": 12,
   "metadata": {},
   "outputs": [
    {
     "data": {
      "text/html": [
       "<div>\n",
       "<style scoped>\n",
       "    .dataframe tbody tr th:only-of-type {\n",
       "        vertical-align: middle;\n",
       "    }\n",
       "\n",
       "    .dataframe tbody tr th {\n",
       "        vertical-align: top;\n",
       "    }\n",
       "\n",
       "    .dataframe thead th {\n",
       "        text-align: right;\n",
       "    }\n",
       "</style>\n",
       "<table border=\"1\" class=\"dataframe\">\n",
       "  <thead>\n",
       "    <tr style=\"text-align: right;\">\n",
       "      <th></th>\n",
       "      <th>Document</th>\n",
       "      <th>label</th>\n",
       "    </tr>\n",
       "  </thead>\n",
       "  <tbody>\n",
       "  </tbody>\n",
       "</table>\n",
       "</div>"
      ],
      "text/plain": [
       "Empty DataFrame\n",
       "Columns: [Document, label]\n",
       "Index: []"
      ]
     },
     "execution_count": 12,
     "metadata": {},
     "output_type": "execute_result"
    }
   ],
   "source": [
    "train_data.loc[train_data.Document.isnull()]"
   ]
  },
  {
   "cell_type": "code",
   "execution_count": 13,
   "metadata": {},
   "outputs": [
    {
     "name": "stdout",
     "output_type": "stream",
     "text": [
      "False\n"
     ]
    }
   ],
   "source": [
    "train_data = train_data.dropna(how = 'any') # Null 값이 존재하는 행 제거\n",
    "print(train_data.isnull().values.any())"
   ]
  },
  {
   "cell_type": "code",
   "execution_count": 14,
   "metadata": {},
   "outputs": [
    {
     "name": "stdout",
     "output_type": "stream",
     "text": [
      "2892\n"
     ]
    }
   ],
   "source": [
    "print(len(train_data))"
   ]
  },
  {
   "cell_type": "code",
   "execution_count": 15,
   "metadata": {},
   "outputs": [
    {
     "data": {
      "text/plain": [
       "'do you expect people to read the FAQ etc and actually accept hard atheism'"
      ]
     },
     "execution_count": 15,
     "metadata": {},
     "output_type": "execute_result"
    }
   ],
   "source": [
    "text = 'do!!! you expect... people~ to~ read~ the FAQ, etc. and actually accept hard~! atheism?@@'\n",
    "re.sub(r'[^a-zA-Z ]', '', text) #알파벳과 공백을 제외하고 모두 제거"
   ]
  },
  {
   "cell_type": "code",
   "execution_count": 16,
   "metadata": {},
   "outputs": [
    {
     "data": {
      "text/html": [
       "<div>\n",
       "<style scoped>\n",
       "    .dataframe tbody tr th:only-of-type {\n",
       "        vertical-align: middle;\n",
       "    }\n",
       "\n",
       "    .dataframe tbody tr th {\n",
       "        vertical-align: top;\n",
       "    }\n",
       "\n",
       "    .dataframe thead th {\n",
       "        text-align: right;\n",
       "    }\n",
       "</style>\n",
       "<table border=\"1\" class=\"dataframe\">\n",
       "  <thead>\n",
       "    <tr style=\"text-align: right;\">\n",
       "      <th></th>\n",
       "      <th>Document</th>\n",
       "      <th>label</th>\n",
       "    </tr>\n",
       "  </thead>\n",
       "  <tbody>\n",
       "    <tr>\n",
       "      <th>0</th>\n",
       "      <td>넘 두렵다ㅠㅠㅠㅠ</td>\n",
       "      <td>4</td>\n",
       "    </tr>\n",
       "    <tr>\n",
       "      <th>1</th>\n",
       "      <td>아놔 코 막혀</td>\n",
       "      <td>2</td>\n",
       "    </tr>\n",
       "    <tr>\n",
       "      <th>2</th>\n",
       "      <td>교수님 진짜 밉다</td>\n",
       "      <td>2</td>\n",
       "    </tr>\n",
       "    <tr>\n",
       "      <th>3</th>\n",
       "      <td>다이어트 하니까 약속 나갈 때마다 곤욕이닾</td>\n",
       "      <td>1</td>\n",
       "    </tr>\n",
       "    <tr>\n",
       "      <th>4</th>\n",
       "      <td>인간수업 광고 너무 징그러워</td>\n",
       "      <td>5</td>\n",
       "    </tr>\n",
       "  </tbody>\n",
       "</table>\n",
       "</div>"
      ],
      "text/plain": [
       "                  Document  label\n",
       "0                넘 두렵다ㅠㅠㅠㅠ      4\n",
       "1                  아놔 코 막혀      2\n",
       "2                교수님 진짜 밉다      2\n",
       "3  다이어트 하니까 약속 나갈 때마다 곤욕이닾      1\n",
       "4          인간수업 광고 너무 징그러워      5"
      ]
     },
     "execution_count": 16,
     "metadata": {},
     "output_type": "execute_result"
    }
   ],
   "source": [
    "train_data['Document'] = train_data['Document'].str.replace(\"[^ㄱ-ㅎㅏ-ㅣ가-힣 ]\",\"\")\n",
    "# 한글과 공백을 제외하고 모두 제거\n",
    "train_data[:5]"
   ]
  },
  {
   "cell_type": "code",
   "execution_count": 17,
   "metadata": {},
   "outputs": [
    {
     "name": "stdout",
     "output_type": "stream",
     "text": [
      "Document    0\n",
      "label       0\n",
      "dtype: int64\n"
     ]
    }
   ],
   "source": [
    "train_data['Document'].replace('', np.nan, inplace=True)\n",
    "print(train_data.isnull().sum())"
   ]
  },
  {
   "cell_type": "code",
   "execution_count": 18,
   "metadata": {},
   "outputs": [
    {
     "data": {
      "text/html": [
       "<div>\n",
       "<style scoped>\n",
       "    .dataframe tbody tr th:only-of-type {\n",
       "        vertical-align: middle;\n",
       "    }\n",
       "\n",
       "    .dataframe tbody tr th {\n",
       "        vertical-align: top;\n",
       "    }\n",
       "\n",
       "    .dataframe thead th {\n",
       "        text-align: right;\n",
       "    }\n",
       "</style>\n",
       "<table border=\"1\" class=\"dataframe\">\n",
       "  <thead>\n",
       "    <tr style=\"text-align: right;\">\n",
       "      <th></th>\n",
       "      <th>Document</th>\n",
       "      <th>label</th>\n",
       "    </tr>\n",
       "  </thead>\n",
       "  <tbody>\n",
       "  </tbody>\n",
       "</table>\n",
       "</div>"
      ],
      "text/plain": [
       "Empty DataFrame\n",
       "Columns: [Document, label]\n",
       "Index: []"
      ]
     },
     "execution_count": 18,
     "metadata": {},
     "output_type": "execute_result"
    }
   ],
   "source": [
    "train_data.loc[train_data.Document.isnull()][:5]"
   ]
  },
  {
   "cell_type": "code",
   "execution_count": 19,
   "metadata": {},
   "outputs": [
    {
     "name": "stdout",
     "output_type": "stream",
     "text": [
      "2892\n"
     ]
    }
   ],
   "source": [
    "train_data = train_data.dropna(how = 'any')\n",
    "print(len(train_data))"
   ]
  },
  {
   "cell_type": "code",
   "execution_count": 20,
   "metadata": {},
   "outputs": [
    {
     "name": "stdout",
     "output_type": "stream",
     "text": [
      "전처리 후 테스트용 샘플의 개수 : 949\n"
     ]
    }
   ],
   "source": [
    "test_data.drop_duplicates(subset = ['Document'], inplace=True) # document 열에서 중복인 내용이 있다면 중복 제거\n",
    "test_data['Document'] = test_data['Document'].str.replace(\"[^ㄱ-ㅎㅏ-ㅣ가-힣 ]\",\"\") # 정규 표현식 수행\n",
    "test_data['Document'].replace('', np.nan, inplace=True) # 공백은 Null 값으로 변경\n",
    "test_data = test_data.dropna(how='any') # Null 값 제거\n",
    "print('전처리 후 테스트용 샘플의 개수 :',len(test_data))"
   ]
  },
  {
   "cell_type": "code",
   "execution_count": 21,
   "metadata": {},
   "outputs": [],
   "source": [
    "stopwords = ['의','가','이','은','들','는','좀','잘','걍','과','도','를','으로','자','에','와','한','하다']"
   ]
  },
  {
   "cell_type": "code",
   "execution_count": 1,
   "metadata": {},
   "outputs": [
    {
     "ename": "NameError",
     "evalue": "name 'Okt' is not defined",
     "output_type": "error",
     "traceback": [
      "\u001b[1;31m---------------------------------------------------------------------------\u001b[0m",
      "\u001b[1;31mNameError\u001b[0m                                 Traceback (most recent call last)",
      "\u001b[1;32m<ipython-input-1-6dd103dbef6b>\u001b[0m in \u001b[0;36m<module>\u001b[1;34m\u001b[0m\n\u001b[1;32m----> 1\u001b[1;33m \u001b[0mokt\u001b[0m \u001b[1;33m=\u001b[0m \u001b[0mOkt\u001b[0m\u001b[1;33m(\u001b[0m\u001b[1;33m)\u001b[0m\u001b[1;33m\u001b[0m\u001b[1;33m\u001b[0m\u001b[0m\n\u001b[0m\u001b[0;32m      2\u001b[0m \u001b[1;31m#okt.morphs('와 이런 것도 영화라고 차라리 뮤직비디오를 만드는 게 나을 뻔', stem = True)\u001b[0m\u001b[1;33m\u001b[0m\u001b[1;33m\u001b[0m\u001b[1;33m\u001b[0m\u001b[0m\n",
      "\u001b[1;31mNameError\u001b[0m: name 'Okt' is not defined"
     ]
    }
   ],
   "source": [
    "okt = Okt()\n",
    "#okt.morphs('와 이런 것도 영화라고 차라리 뮤직비디오를 만드는 게 나을 뻔', stem = True)"
   ]
  },
  {
   "cell_type": "code",
   "execution_count": 23,
   "metadata": {},
   "outputs": [],
   "source": [
    "X_train = []\n",
    "for sentence in train_data['Document']:\n",
    "    temp_X = []\n",
    "    temp_X = okt.morphs(sentence, stem=True) # 토큰화\n",
    "    temp_X = [word for word in temp_X if not word in stopwords] # 불용어 제거\n",
    "    X_train.append(temp_X)"
   ]
  },
  {
   "cell_type": "code",
   "execution_count": 24,
   "metadata": {},
   "outputs": [
    {
     "name": "stdout",
     "output_type": "stream",
     "text": [
      "[['넘다', '두렵다', 'ㅠㅠㅠㅠ'], ['아', '놓다', '코', '막히다'], ['교수', '님', '진짜', '밉다'], ['다이어트', '약속', '나가다', '때', '마다', '곤욕', '닾'], ['인간', '수업', '광고', '너무', '징그럽다']]\n"
     ]
    }
   ],
   "source": [
    "print(X_train[:5])"
   ]
  },
  {
   "cell_type": "code",
   "execution_count": 25,
   "metadata": {},
   "outputs": [],
   "source": [
    "X_test = []\n",
    "for sentence in test_data['Document']:\n",
    "    temp_X = []\n",
    "    temp_X = okt.morphs(sentence, stem=True) # 토큰화\n",
    "    temp_X = [word for word in temp_X if not word in stopwords] # 불용어 제거\n",
    "    X_test.append(temp_X)"
   ]
  },
  {
   "cell_type": "code",
   "execution_count": 26,
   "metadata": {},
   "outputs": [],
   "source": [
    "tokenizer = Tokenizer()\n",
    "tokenizer.fit_on_texts(X_train)"
   ]
  },
  {
   "cell_type": "code",
   "execution_count": 28,
   "metadata": {},
   "outputs": [
    {
     "name": "stdout",
     "output_type": "stream",
     "text": [
      "단어 집합(vocabulary)의 크기 : 2760\n",
      "등장 빈도가 2번 이하인 희귀 단어의 수: 1849\n",
      "단어 집합에서 희귀 단어의 비율: 66.9927536231884\n",
      "전체 등장 빈도에서 희귀 단어 등장 빈도 비율: 15.186130896384894\n"
     ]
    }
   ],
   "source": [
    "threshold = 3\n",
    "total_cnt = len(tokenizer.word_index) # 단어의 수\n",
    "rare_cnt = 0 # 등장 빈도수가 threshold보다 작은 단어의 개수를 카운트\n",
    "total_freq = 0 # 훈련 데이터의 전체 단어 빈도수 총 합\n",
    "rare_freq = 0 # 등장 빈도수가 threshold보다 작은 단어의 등장 빈도수의 총 합\n",
    "\n",
    "# 단어와 빈도수의 쌍(pair)을 key와 value로 받는다.\n",
    "for key, value in tokenizer.word_counts.items():\n",
    "    total_freq = total_freq + value\n",
    "\n",
    "    # 단어의 등장 빈도수가 threshold보다 작으면\n",
    "    if(value < threshold):\n",
    "        rare_cnt = rare_cnt + 1\n",
    "        rare_freq = rare_freq + value\n",
    "\n",
    "print('단어 집합(vocabulary)의 크기 :',total_cnt)\n",
    "print('등장 빈도가 %s번 이하인 희귀 단어의 수: %s'%(threshold - 1, rare_cnt))\n",
    "print(\"단어 집합에서 희귀 단어의 비율:\", (rare_cnt / total_cnt)*100)\n",
    "print(\"전체 등장 빈도에서 희귀 단어 등장 빈도 비율:\", (rare_freq / total_freq)*100)"
   ]
  },
  {
   "cell_type": "code",
   "execution_count": 29,
   "metadata": {},
   "outputs": [
    {
     "name": "stdout",
     "output_type": "stream",
     "text": [
      "단어 집합의 크기 : 912\n"
     ]
    }
   ],
   "source": [
    "vocab_size = total_cnt - rare_cnt + 1 # 전체 단어 개수 중 빈도수 2이하인 단어 개수는 제거. 0번 패딩 토큰을 고려하여 +1\n",
    "print('단어 집합의 크기 :',vocab_size)"
   ]
  },
  {
   "cell_type": "code",
   "execution_count": 30,
   "metadata": {},
   "outputs": [],
   "source": [
    "tokenizer = Tokenizer(vocab_size) \n",
    "tokenizer.fit_on_texts(X_train)\n",
    "X_train = tokenizer.texts_to_sequences(X_train)\n",
    "X_test = tokenizer.texts_to_sequences(X_test)"
   ]
  },
  {
   "cell_type": "code",
   "execution_count": 31,
   "metadata": {},
   "outputs": [
    {
     "name": "stdout",
     "output_type": "stream",
     "text": [
      "[[22, 82, 250], [4, 274, 721, 722], [187, 129, 2, 514]]\n"
     ]
    }
   ],
   "source": [
    "print(X_train[:3])"
   ]
  },
  {
   "cell_type": "code",
   "execution_count": 32,
   "metadata": {},
   "outputs": [],
   "source": [
    "y_train = np.array(train_data['label'])\n",
    "y_test = np.array(test_data['label'])"
   ]
  },
  {
   "cell_type": "code",
   "execution_count": 33,
   "metadata": {},
   "outputs": [],
   "source": [
    "drop_train = [index for index, sentence in enumerate(X_train) if len(sentence) < 1]\n",
    "drop_test = [index for index, sentence in enumerate(X_test) if len(sentence) < 1]"
   ]
  },
  {
   "cell_type": "code",
   "execution_count": 34,
   "metadata": {},
   "outputs": [
    {
     "name": "stdout",
     "output_type": "stream",
     "text": [
      "2861\n",
      "2861\n"
     ]
    }
   ],
   "source": [
    "# 빈 샘플들을 제거\n",
    "X_train = np.delete(X_train, drop_train, axis=0)\n",
    "y_train = np.delete(y_train, drop_train, axis=0)\n",
    "print(len(X_train))\n",
    "print(len(y_train))"
   ]
  },
  {
   "cell_type": "code",
   "execution_count": 35,
   "metadata": {
    "scrolled": true
   },
   "outputs": [
    {
     "name": "stdout",
     "output_type": "stream",
     "text": [
      "941\n",
      "941\n"
     ]
    }
   ],
   "source": [
    "X_test = np.delete(X_test, drop_test, axis=0)\n",
    "y_test = np.delete(y_test, drop_test, axis=0)\n",
    "print(len(X_test))\n",
    "print(len(y_test))"
   ]
  },
  {
   "cell_type": "code",
   "execution_count": 36,
   "metadata": {},
   "outputs": [
    {
     "name": "stdout",
     "output_type": "stream",
     "text": [
      "데이터의 최대 길이 : 15\n",
      "데이터의 평균 길이 : 4.411744145403705\n"
     ]
    },
    {
     "data": {
      "image/png": "[encoded data removed]",
      "text/plain": [
       "<Figure size 432x288 with 1 Axes>"
      ]
     },
     "metadata": {
      "needs_background": "light"
     },
     "output_type": "display_data"
    }
   ],
   "source": [
    "print('데이터의 최대 길이 :',max(len(l) for l in X_train))\n",
    "print('데이터의 평균 길이 :',sum(map(len, X_train))/len(X_train))\n",
    "plt.hist([len(s) for s in X_train], bins=50)\n",
    "plt.xlabel('length of samples')\n",
    "plt.ylabel('number of samples')\n",
    "plt.show()"
   ]
  },
  {
   "cell_type": "code",
   "execution_count": 37,
   "metadata": {},
   "outputs": [],
   "source": [
    "def below_threshold_len(max_len, nested_list):\n",
    "  cnt = 0\n",
    "  for s in nested_list:\n",
    "    if(len(s) <= max_len):\n",
    "        cnt = cnt + 1\n",
    "  print('전체 샘플 중 길이가 %s 이하인 샘플의 비율: %s'%(max_len, (cnt / len(nested_list))*100))"
   ]
  },
  {
   "cell_type": "code",
   "execution_count": 38,
   "metadata": {},
   "outputs": [
    {
     "name": "stdout",
     "output_type": "stream",
     "text": [
      "전체 샘플 중 길이가 8 이하인 샘플의 비율: 96.26004893393917\n"
     ]
    }
   ],
   "source": [
    "max_len = 8\n",
    "below_threshold_len(max_len, X_train)"
   ]
  },
  {
   "cell_type": "code",
   "execution_count": 39,
   "metadata": {},
   "outputs": [],
   "source": [
    "X_train = pad_sequences(X_train, maxlen = max_len)\n",
    "X_test = pad_sequences(X_test, maxlen = max_len)"
   ]
  },
  {
   "cell_type": "code",
   "execution_count": 39,
   "metadata": {},
   "outputs": [],
   "source": [
    "from tensorflow.keras.layers import Embedding, Dense, LSTM, Input, GlobalMaxPooling1D\n",
    "from tensorflow.keras.models import Sequential\n",
    "from tensorflow.keras.models import load_model\n",
    "from tensorflow.keras.callbacks import EarlyStopping, ModelCheckpoint"
   ]
  },
  {
   "cell_type": "code",
   "execution_count": 40,
   "metadata": {},
   "outputs": [
    {
     "name": "stdout",
     "output_type": "stream",
     "text": [
      "Model: \"sequential\"\n",
      "_________________________________________________________________\n",
      "Layer (type)                 Output Shape              Param #   \n",
      "=================================================================\n",
      "embedding (Embedding)        (None, 8, 100)            91200     \n",
      "_________________________________________________________________\n",
      "lstm (LSTM)                  (None, 128)               117248    \n",
      "_________________________________________________________________\n",
      "output (Dense)               (None, 6)                 774       \n",
      "=================================================================\n",
      "Total params: 209,222\n",
      "Trainable params: 209,222\n",
      "Non-trainable params: 0\n",
      "_________________________________________________________________\n"
     ]
    }
   ],
   "source": [
    "model = Sequential()\n",
    "#model.add(Embedding(vocab_size, 100))\n",
    "model.add(Embedding(vocab_size, 100, input_shape=(max_len, )))\n",
    "#model.add(Embedding(vocab_size, 100))\n",
    "model.add(LSTM(128))\n",
    "model.add(Dense(6, activation='softmax', name='output'))\n",
    "model.summary()"
   ]
  },
  {
   "cell_type": "code",
   "execution_count": 41,
   "metadata": {},
   "outputs": [],
   "source": [
    "es = EarlyStopping(monitor='val_loss', mode='min', verbose=1, patience=5)\n",
    "mc = ModelCheckpoint('best_model.h5', monitor='val_acc', mode='max', verbose=1, save_best_only=True)"
   ]
  },
  {
   "cell_type": "code",
   "execution_count": 42,
   "metadata": {},
   "outputs": [
    {
     "name": "stdout",
     "output_type": "stream",
     "text": [
      "Epoch 1/20\n",
      "33/34 [============================>.] - ETA: 0s - loss: 1.7234 - acc: 0.3455\n",
      "Epoch 00001: val_acc improved from -inf to 0.37835, saving model to best_model.h5\n",
      "34/34 [==============================] - 2s 44ms/step - loss: 1.7214 - acc: 0.3492 - val_loss: 1.6009 - val_acc: 0.3783\n",
      "Epoch 2/20\n",
      "31/34 [==========================>...] - ETA: 0s - loss: 1.3095 - acc: 0.5833- ETA: 0s - loss: 1.3359 - acc: 0.567\n",
      "Epoch 00002: val_acc improved from 0.37835 to 0.62864, saving model to best_model.h5\n",
      "34/34 [==============================] - 1s 26ms/step - loss: 1.2889 - acc: 0.5904 - val_loss: 1.0892 - val_acc: 0.6286\n",
      "Epoch 3/20\n",
      "33/34 [============================>.] - ETA: 0s - loss: 0.6795 - acc: 0.8374\n",
      "Epoch 00003: val_acc improved from 0.62864 to 0.77765, saving model to best_model.h5\n",
      "34/34 [==============================] - 1s 20ms/step - loss: 0.6769 - acc: 0.8372 - val_loss: 0.7073 - val_acc: 0.7776\n",
      "Epoch 4/20\n",
      "34/34 [==============================] - ETA: 0s - loss: 0.3472 - acc: 0.9126\n",
      "Epoch 00004: val_acc improved from 0.77765 to 0.85565, saving model to best_model.h5\n",
      "34/34 [==============================] - 1s 21ms/step - loss: 0.3472 - acc: 0.9126 - val_loss: 0.4732 - val_acc: 0.8556\n",
      "Epoch 5/20\n",
      "34/34 [==============================] - ETA: 0s - loss: 0.2081 - acc: 0.9500\n",
      "Epoch 00005: val_acc improved from 0.85565 to 0.89057, saving model to best_model.h5\n",
      "34/34 [==============================] - 1s 21ms/step - loss: 0.2081 - acc: 0.9500 - val_loss: 0.3802 - val_acc: 0.8906\n",
      "Epoch 6/20\n",
      "32/34 [===========================>..] - ETA: 0s - loss: 0.1353 - acc: 0.9677\n",
      "Epoch 00006: val_acc improved from 0.89057 to 0.91735, saving model to best_model.h5\n",
      "34/34 [==============================] - 1s 21ms/step - loss: 0.1312 - acc: 0.9690 - val_loss: 0.2873 - val_acc: 0.9173\n",
      "Epoch 7/20\n",
      "32/34 [===========================>..] - ETA: 0s - loss: 0.0921 - acc: 0.9766- ETA: 0s - loss: 0.0941 - acc: 0.974\n",
      "Epoch 00007: val_acc improved from 0.91735 to 0.92666, saving model to best_model.h5\n",
      "34/34 [==============================] - 1s 22ms/step - loss: 0.0914 - acc: 0.9765 - val_loss: 0.2690 - val_acc: 0.9267\n",
      "Epoch 8/20\n",
      "34/34 [==============================] - ETA: 0s - loss: 0.0638 - acc: 0.9845\n",
      "Epoch 00008: val_acc improved from 0.92666 to 0.93248, saving model to best_model.h5\n",
      "34/34 [==============================] - 1s 22ms/step - loss: 0.0638 - acc: 0.9845 - val_loss: 0.2483 - val_acc: 0.9325\n",
      "Epoch 9/20\n",
      "32/34 [===========================>..] - ETA: 0s - loss: 0.0523 - acc: 0.9870\n",
      "Epoch 00009: val_acc improved from 0.93248 to 0.93364, saving model to best_model.h5\n",
      "34/34 [==============================] - 1s 21ms/step - loss: 0.0509 - acc: 0.9875 - val_loss: 0.2620 - val_acc: 0.9336\n",
      "Epoch 10/20\n",
      "33/34 [============================>.] - ETA: 0s - loss: 0.0377 - acc: 0.991 - ETA: 0s - loss: 0.0408 - acc: 0.9904\n",
      "Epoch 00010: val_acc did not improve from 0.93364\n",
      "34/34 [==============================] - 1s 21ms/step - loss: 0.0407 - acc: 0.9905 - val_loss: 0.2303 - val_acc: 0.9313\n",
      "Epoch 11/20\n",
      "31/34 [==========================>...] - ETA: 0s - loss: 0.0345 - acc: 0.9903\n",
      "Epoch 00011: val_acc improved from 0.93364 to 0.93481, saving model to best_model.h5\n",
      "34/34 [==============================] - 1s 26ms/step - loss: 0.0345 - acc: 0.9905 - val_loss: 0.2685 - val_acc: 0.9348\n",
      "Epoch 12/20\n",
      "34/34 [==============================] - ETA: 0s - loss: 0.0253 - acc: 0.9935\n",
      "Epoch 00012: val_acc improved from 0.93481 to 0.93714, saving model to best_model.h5\n",
      "34/34 [==============================] - 1s 25ms/step - loss: 0.0253 - acc: 0.9935 - val_loss: 0.2744 - val_acc: 0.9371\n",
      "Epoch 13/20\n",
      "34/34 [==============================] - ETA: 0s - loss: 0.0221 - acc: 0.9950\n",
      "Epoch 00013: val_acc did not improve from 0.93714\n",
      "34/34 [==============================] - 1s 22ms/step - loss: 0.0221 - acc: 0.9950 - val_loss: 0.3376 - val_acc: 0.9173\n",
      "Epoch 14/20\n",
      "32/34 [===========================>..] - ETA: 0s - loss: 0.0148 - acc: 0.9958\n",
      "Epoch 00014: val_acc did not improve from 0.93714\n",
      "34/34 [==============================] - 1s 20ms/step - loss: 0.0176 - acc: 0.9955 - val_loss: 0.3094 - val_acc: 0.9278\n",
      "Epoch 15/20\n",
      "32/34 [===========================>..] - ETA: 0s - loss: 0.0158 - acc: 0.9964\n",
      "Epoch 00015: val_acc did not improve from 0.93714\n",
      "34/34 [==============================] - 1s 21ms/step - loss: 0.0153 - acc: 0.9965 - val_loss: 0.3083 - val_acc: 0.9348\n",
      "Epoch 00015: early stopping\n"
     ]
    }
   ],
   "source": [
    "model.compile(optimizer='rmsprop', loss='sparse_categorical_crossentropy', metrics=['acc'])\n",
    "history = model.fit(X_train, y_train, epochs=20, callbacks=[es, mc], batch_size=60, validation_split=0.3)"
   ]
  },
  {
   "cell_type": "code",
   "execution_count": 43,
   "metadata": {},
   "outputs": [
    {
     "name": "stdout",
     "output_type": "stream",
     "text": [
      "30/30 [==============================] - 0s 5ms/step - loss: 0.2799 - acc: 0.9160\n",
      "\n",
      " 테스트 정확도: 0.9160\n"
     ]
    }
   ],
   "source": [
    "loaded_model = load_model('best_model.h5')\n",
    "print(\"\\n 테스트 정확도: %.4f\" % (loaded_model.evaluate(X_test, y_test)[1]))"
   ]
  },
  {
   "cell_type": "code",
   "execution_count": 44,
   "metadata": {},
   "outputs": [
    {
     "data": {
      "image/png": "[encoded data removed]",
      "text/plain": [
       "<Figure size 432x288 with 1 Axes>"
      ]
     },
     "metadata": {
      "needs_background": "light"
     },
     "output_type": "display_data"
    }
   ],
   "source": [
    "epochs = range(1, len(history.history['acc']) + 1)\n",
    "plt.plot(epochs, history.history['acc'])\n",
    "plt.plot(epochs, history.history['val_acc'])\n",
    "plt.ylabel('accuracy')\n",
    "plt.xlabel('epoch')\n",
    "plt.legend(['train', 'val'], loc='lower right')\n",
    "plt.show()"
   ]
  },
  {
   "cell_type": "code",
   "execution_count": 45,
   "metadata": {},
   "outputs": [
    {
     "data": {
      "image/png": "[encoded data removed]",
      "text/plain": [
       "<Figure size 432x288 with 1 Axes>"
      ]
     },
     "metadata": {
      "needs_background": "light"
     },
     "output_type": "display_data"
    }
   ],
   "source": [
    "epochs = range(1, len(history.history['acc']) + 1)\n",
    "plt.plot(epochs, history.history['loss'])\n",
    "plt.plot(epochs, history.history['val_loss'])\n",
    "plt.title('model loss')\n",
    "plt.ylabel('loss')\n",
    "plt.xlabel('epoch')\n",
    "plt.legend(['train', 'test'], loc='upper left')\n",
    "plt.show()"
   ]
  },
  {
   "cell_type": "code",
   "execution_count": 46,
   "metadata": {},
   "outputs": [
    {
     "name": "stdout",
     "output_type": "stream",
     "text": [
      "WARNING:tensorflow:From C:\\Users\\lg\\anaconda3\\envs\\tensorflow\\lib\\site-packages\\tensorflow\\python\\ops\\resource_variable_ops.py:1817: calling BaseResourceVariable.__init__ (from tensorflow.python.ops.resource_variable_ops) with constraint is deprecated and will be removed in a future version.\n",
      "Instructions for updating:\n",
      "If using Keras pass *_constraint arguments to layers.\n",
      "INFO:tensorflow:Assets written to: ./New_LSTM\\assets\n"
     ]
    }
   ],
   "source": [
    "model = load_model('best_model.h5', compile=False)\n",
    "\n",
    "export_path = './New_LSTM'\n",
    "model.save(export_path, save_format=\"tf\")"
   ]
  },
  {
   "cell_type": "code",
   "execution_count": 47,
   "metadata": {},
   "outputs": [
    {
     "data": {
      "text/plain": [
       "860084"
      ]
     },
     "execution_count": 47,
     "metadata": {},
     "output_type": "execute_result"
    }
   ],
   "source": [
    "import tensorflow as tf\n",
    "\n",
    "converter = tf.lite.TFLiteConverter.from_keras_model(model)\n",
    "converter.post_training_quantize = True\n",
    "tflite_model = converter.convert()\n",
    "\n",
    "open('./New_LSTM/new_lstm_model.tflite', 'wb').write(tflite_model)"
   ]
  },
  {
   "cell_type": "code",
   "execution_count": 44,
   "metadata": {},
   "outputs": [
    {
     "name": "stdout",
     "output_type": "stream",
     "text": [
      "짜증나\n",
      "['짜증나다']\n",
      "[[18]]\n",
      "[[ 0.  0.  0.  0.  0.  0.  0. 18.]]\n",
      "[4.1138774e-06 2.2488639e-04 9.9942267e-01 1.3684647e-06 1.0324563e-06\n",
      " 3.4603957e-04]\n",
      "분노\n"
     ]
    }
   ],
   "source": [
    "import tensorflow as tf\n",
    "import numpy as np\n",
    "from konlpy.tag import Okt\n",
    "\n",
    "interpreter = tf.lite.Interpreter(model_path='./New_LSTM/new_lstm_model.tflite')\n",
    "interpreter.allocate_tensors()\n",
    "\n",
    "input_index = interpreter.get_input_details()[0]['index']\n",
    "output = interpreter.tensor(interpreter.get_output_details()[0][\"index\"])\n",
    "\n",
    "test_data=input()\n",
    "\n",
    "N_test = []\n",
    "temp_X = []\n",
    "temp_X = okt.morphs(test_data, stem=True) # 토큰화\n",
    "#print(temp_X)\n",
    "temp_X = [word for word in temp_X if not word in stopwords] # 불용어 제거\n",
    "print(temp_X)\n",
    "N_test.append(temp_X)\n",
    "\n",
    "N_test = tokenizer.texts_to_sequences(N_test)\n",
    "print(N_test)\n",
    "N_test = pad_sequences(N_test, maxlen = max_len)\n",
    "N_test = N_test.astype(dtype=np.float32)\n",
    "print(N_test)\n",
    "\n",
    "interpreter.set_tensor(input_index, N_test)\n",
    "interpreter.invoke()\n",
    "\n",
    "label = [\"기쁨\", \"슬픔\", \"분노\", \"놀람\", \"공포\", \"혐오\"]\n",
    "\n",
    "predict_label = np.argmax(output()[0])\n",
    "# Get label name with label index.\n",
    "predict_label_name = label[predict_label]\n",
    "print(predict_label_name)"
   ]
  },
  {
   "cell_type": "code",
   "execution_count": null,
   "metadata": {},
   "outputs": [],
   "source": []
  },
  {
   "cell_type": "code",
   "execution_count": 49,
   "metadata": {},
   "outputs": [
    {
     "name": "stdout",
     "output_type": "stream",
     "text": [
      "너무 짜증나\n",
      "WARNING:tensorflow:From <ipython-input-49-7df63c3a8451>:22: Sequential.predict_classes (from tensorflow.python.keras.engine.sequential) is deprecated and will be removed after 2021-01-01.\n",
      "Instructions for updating:\n",
      "Please use instead:* `np.argmax(model.predict(x), axis=-1)`,   if your model does multi-class classification   (e.g. if it uses a `softmax` last-layer activation).* `(model.predict(x) > 0.5).astype(\"int32\")`,   if your model does binary classification   (e.g. if it uses a `sigmoid` last-layer activation).\n"
     ]
    },
    {
     "name": "stderr",
     "output_type": "stream",
     "text": [
      "WARNING:tensorflow:From <ipython-input-49-7df63c3a8451>:22: Sequential.predict_classes (from tensorflow.python.keras.engine.sequential) is deprecated and will be removed after 2021-01-01.\n",
      "Instructions for updating:\n",
      "Please use instead:* `np.argmax(model.predict(x), axis=-1)`,   if your model does multi-class classification   (e.g. if it uses a `softmax` last-layer activation).* `(model.predict(x) > 0.5).astype(\"int32\")`,   if your model does binary classification   (e.g. if it uses a `sigmoid` last-layer activation).\n"
     ]
    },
    {
     "name": "stdout",
     "output_type": "stream",
     "text": [
      "[2]\n",
      "[{'name': 'embedding_input', 'index': 0, 'shape': array([1, 8]), 'shape_signature': array([1, 8]), 'dtype': <class 'numpy.float32'>, 'quantization': (0.0, 0), 'quantization_parameters': {'scales': array([], dtype=float32), 'zero_points': array([], dtype=int32), 'quantized_dimension': 0}, 'sparsity_parameters': {}}]\n",
      "[{'name': 'Identity', 'index': 44, 'shape': array([], dtype=int32), 'shape_signature': array([], dtype=int32), 'dtype': <class 'numpy.float32'>, 'quantization': (0.0, 0), 'quantization_parameters': {'scales': array([], dtype=float32), 'zero_points': array([], dtype=int32), 'quantized_dimension': 0}, 'sparsity_parameters': {}}]\n",
      "[1 8]\n",
      "0\n",
      "44\n",
      "[[ 0.  0.  0.  0.  0.  0.  1. 18.]]\n",
      "output: [[6.4032229e-06 4.2296009e-04 9.9902070e-01 1.0882836e-06 3.3239353e-06\n",
      "  5.4556661e-04]]\n",
      "output_data: [6.4032229e-06 4.2296009e-04 9.9902070e-01 1.0882836e-06 3.3239353e-06\n",
      " 5.4556661e-04]\n",
      "model_result: 분노\n",
      "[[ 0.  0.  0.  0.  0.  0.  1. 18.]]\n",
      "7\n"
     ]
    },
    {
     "ename": "IndexError",
     "evalue": "list index out of range",
     "output_type": "error",
     "traceback": [
      "\u001b[1;31m---------------------------------------------------------------------------\u001b[0m",
      "\u001b[1;31mIndexError\u001b[0m                                Traceback (most recent call last)",
      "\u001b[1;32m<ipython-input-49-7df63c3a8451>\u001b[0m in \u001b[0;36m<module>\u001b[1;34m\u001b[0m\n\u001b[0;32m     61\u001b[0m \u001b[0mprint\u001b[0m\u001b[1;33m(\u001b[0m\u001b[0my_predict\u001b[0m\u001b[1;33m)\u001b[0m\u001b[1;33m\u001b[0m\u001b[1;33m\u001b[0m\u001b[0m\n\u001b[0;32m     62\u001b[0m \u001b[0mprint\u001b[0m\u001b[1;33m(\u001b[0m\u001b[0mnp\u001b[0m\u001b[1;33m.\u001b[0m\u001b[0margmax\u001b[0m\u001b[1;33m(\u001b[0m\u001b[0my_predict\u001b[0m\u001b[1;33m[\u001b[0m\u001b[1;36m0\u001b[0m\u001b[1;33m]\u001b[0m\u001b[1;33m)\u001b[0m\u001b[1;33m)\u001b[0m\u001b[1;33m\u001b[0m\u001b[1;33m\u001b[0m\u001b[0m\n\u001b[1;32m---> 63\u001b[1;33m \u001b[0mprint\u001b[0m\u001b[1;33m(\u001b[0m\u001b[0mlabel\u001b[0m\u001b[1;33m[\u001b[0m\u001b[0mnp\u001b[0m\u001b[1;33m.\u001b[0m\u001b[0margmax\u001b[0m\u001b[1;33m(\u001b[0m\u001b[0my_predict\u001b[0m\u001b[1;33m[\u001b[0m\u001b[1;36m0\u001b[0m\u001b[1;33m]\u001b[0m\u001b[1;33m)\u001b[0m\u001b[1;33m]\u001b[0m\u001b[1;33m)\u001b[0m\u001b[1;33m\u001b[0m\u001b[1;33m\u001b[0m\u001b[0m\n\u001b[0m",
      "\u001b[1;31mIndexError\u001b[0m: list index out of range"
     ]
    }
   ],
   "source": [
    "import tensorflow as tf\n",
    "import numpy as np\n",
    "from konlpy.tag import Okt\n",
    "\n",
    "interpreter = tf.lite.Interpreter(model_path='./New_LSTM/new_lstm_model.tflite')\n",
    "interpreter.allocate_tensors()\n",
    "\n",
    "test_data=input()\n",
    "\n",
    "#okt = Okt()\n",
    "#stopwords = ['의','가','이','은','들','는','좀','잘','걍','과','도','를','으로','자','에','와','한','하다']\n",
    "\n",
    "N_test = []\n",
    "temp_X = []\n",
    "temp_X = okt.morphs(test_data, stem=True) # 토큰화\n",
    "temp_X = [word for word in temp_X if not word in stopwords] # 불용어 제거\n",
    "N_test.append(temp_X)\n",
    "\n",
    "N_test = tokenizer.texts_to_sequences(N_test)\n",
    "N_test = pad_sequences(N_test, maxlen = max_len)\n",
    "\n",
    "predict_class=model.predict_classes(N_test)\n",
    "print(predict_class.T)\n",
    "\n",
    "input_details = interpreter.get_input_details()\n",
    "output_details = interpreter.get_output_details()\n",
    "print(input_details)\n",
    "print(output_details)\n",
    "\n",
    "print(input_details[0]['shape']) #[1 563]\n",
    "print(input_details[0]['index']) #0\n",
    "print(output_details[0]['index']) #44\n",
    "\n",
    "N_test = N_test.astype(dtype=np.float32)\n",
    "\n",
    "print(N_test)\n",
    "\n",
    "#input_details[0]['index'] = input_details[0]['index'].astype(dtype=np.float32)\n",
    "#input_details[0]['index'] = tf.cast(input_details[0]['index'], tf.float32)\n",
    "\n",
    "interpreter.set_tensor(input_details[0]['index'],N_test)\n",
    "interpreter.invoke()\n",
    "\n",
    "output_data = interpreter.get_tensor(output_details[0]['index'])\n",
    "print(\"output:\",output_data)\n",
    "\n",
    "result = []\n",
    "output_data = interpreter.get_tensor(output_details[0]['index'])\n",
    "result.append(output_data)\n",
    "print(\"output_data:\", np.reshape(result, -1))\n",
    "\n",
    "label = [\"기쁨\", \"슬픔\", \"분노\"]\n",
    "y_predict = interpreter.get_tensor(0)\n",
    "\n",
    "predict = np.reshape(result, -1)\n",
    "\n",
    "y_predict = model(N_test).numpy()\n",
    "print(\"model_result:\", label[np.argmax(y_predict[0])])\n",
    "\n",
    "y_predict = interpreter.get_tensor(0)\n",
    "print(y_predict)\n",
    "print(np.argmax(y_predict[0]))\n",
    "print(label[np.argmax(y_predict[0])])\n"
   ]
  },
  {
   "cell_type": "raw",
   "metadata": {},
   "source": [
    "import tensorflow as tf\n",
    "\n",
    "saved_model_dir='./LSTM2'\n",
    "\n",
    "\n",
    "converter = tf.lite.TFLiteConverter.from_saved_model(saved_model_dir)\n",
    "#converter.target_spec.supported_ops = [tf.lite.OpsSet.TFLITE_BUILTINS, tf.lite.OpsSet.SELECT_TF_OPS]\n",
    "\n",
    "#converter = tf.compat.v1.lite.TFLiteConverter.from_keras_model_file(model)\n",
    "#converter.target_spec.supported_ops = [tf.lite.OpsSet.TFLITE_BUILTINS, tf.lite.OpsSet.SELECT_TF_OPS]\n",
    "\n",
    "#converter = tf.lite.TFLiteConverter.from_keras_model(model)\n",
    "#converter.experimental_new_converter = True\n",
    "\n",
    "#converter = tf.compat.v1.lite.TFLiteConverter.from_keras_model_file(\n",
    "#    'best_model.h5',\n",
    "    #input_shapes={'embedding_input': [1, vocab_size]})\n",
    "#    input_shapes={'embedding_input':[3,5]})\n",
    "\n",
    "#converter = tf.contrib.lite.TFLiteConverter.from_keras_model_file('best_model.h5')\n",
    "\n",
    "#converter = tf.compat.v1.lite.TFLiteConverter.from_saved_model(saved_model_dir, input_arrays=None, input_shapes=None, output_arrays=None, tag_set=None, signature_key=None)\n",
    "#converter.target_spec.supported_ops = [tf.lite.OpsSet.TFLITE_BUILTINS, tf.lite.OpsSet.SELECT_TF_OPS]\n",
    "\n",
    "tflite_model = converter.convert()\n",
    "\n",
    "open('./LSTM2/lstm_converted_model.tflite', 'wb').write(tflite_model)\n"
   ]
  },
  {
   "cell_type": "raw",
   "metadata": {
    "scrolled": true
   },
   "source": [
    "loaded_model = load_model('best_model.h5')\n",
    "\n",
    "#predictions = model.predict(X_test)\n",
    "#print(predictions[0:400].T)\n",
    "\n",
    "#predict_class=model.predict_classes(X_test)\n",
    "#print(predict_class[0:400].T)\n",
    "\n",
    "\n",
    "test_data=pd.read_table('new_test.txt')\n",
    "\n",
    "okt = Okt()\n",
    "\n",
    "N_test = []\n",
    "for sentence in test_data['Document']:\n",
    "    temp_X = []\n",
    "    temp_X = okt.morphs(sentence, stem=True) # 토큰화\n",
    "    temp_X = [word for word in temp_X if not word in stopwords] # 불용어 제거\n",
    "    N_test.append(temp_X)\n",
    "\n",
    "N_test = tokenizer.texts_to_sequences(N_test)\n",
    "N_test = pad_sequences(N_test, maxlen = max_len)\n",
    "\n",
    "predict_class=model.predict_classes(N_test)\n",
    "print(predict_class[0:6].T)\n",
    "\n",
    "\n",
    "#predict = model.predict(X_test)\n",
    "#import numpy as np\n",
    "#predict_labels = np.argmax(predict, axis=0)\n",
    "#original_labels = np.argmax(y_test, axis=0)\n",
    "\n",
    "#for i in range(400): \n",
    "#    print(\"텍스트 : \", test_data['Document'].iloc[i], \"/\\t 원래 라벨 : \", original_labels[i], \"/\\t예측한 라벨 : \", predict_labels[i])\n",
    "\n"
   ]
  },
  {
   "cell_type": "code",
   "execution_count": 84,
   "metadata": {},
   "outputs": [
    {
     "name": "stdout",
     "output_type": "stream",
     "text": [
      "[2]\n"
     ]
    }
   ],
   "source": [
    "#text = input()\n",
    "\n",
    "test_data=pd.read_table('untitled.txt')\n",
    "\n",
    "N_test = []\n",
    "for sentence in test_data['Document']:\n",
    "    temp_X = []\n",
    "    temp_X = okt.morphs(sentence, stem=True) # 토큰화\n",
    "    temp_X = [word for word in temp_X if not word in stopwords] # 불용어 제거\n",
    "    N_test.append(temp_X)\n",
    "\n",
    "N_test = tokenizer.texts_to_sequences(N_test)\n",
    "N_test = pad_sequences(N_test, maxlen = max_len)\n",
    "\n",
    "predict_class=model.predict_classes(N_test)\n",
    "print(predict_class[0:5].T)"
   ]
  },
  {
   "cell_type": "code",
   "execution_count": 76,
   "metadata": {},
   "outputs": [
    {
     "name": "stdout",
     "output_type": "stream",
     "text": [
      "짜증나\n",
      "[['짜증나다']]\n",
      "[2]\n"
     ]
    }
   ],
   "source": [
    "from konlpy.tag import Okt\n",
    "okt = Okt()\n",
    "\n",
    "test_data=input()\n",
    "\n",
    "N_test = []\n",
    "temp_X = []\n",
    "temp_X = okt.morphs(test_data, stem=True) # 토큰화\n",
    "temp_X = [word for word in temp_X if not word in stopwords] # 불용어 제거\n",
    "N_test.append(temp_X)\n",
    "#N_test.append(test_data)\n",
    "print(N_test)\n",
    "\n",
    "N_test = tokenizer.texts_to_sequences(N_test)\n",
    "N_test = pad_sequences(N_test, maxlen = max_len)\n",
    "\n",
    "predict_class=model.predict_classes(N_test)\n",
    "print(predict_class.T)\n",
    "\n"
   ]
  },
  {
   "cell_type": "code",
   "execution_count": 142,
   "metadata": {},
   "outputs": [
    {
     "name": "stdout",
     "output_type": "stream",
     "text": [
      "더러워\n",
      "WARNING:tensorflow:From <ipython-input-142-a6b27c5b4295>:15: Sequential.predict_classes (from tensorflow.python.keras.engine.sequential) is deprecated and will be removed after 2021-01-01.\n",
      "Instructions for updating:\n",
      "Please use instead:* `np.argmax(model.predict(x), axis=-1)`,   if your model does multi-class classification   (e.g. if it uses a `softmax` last-layer activation).* `(model.predict(x) > 0.5).astype(\"int32\")`,   if your model does binary classification   (e.g. if it uses a `sigmoid` last-layer activation).\n"
     ]
    },
    {
     "name": "stderr",
     "output_type": "stream",
     "text": [
      "WARNING:tensorflow:From <ipython-input-142-a6b27c5b4295>:15: Sequential.predict_classes (from tensorflow.python.keras.engine.sequential) is deprecated and will be removed after 2021-01-01.\n",
      "Instructions for updating:\n",
      "Please use instead:* `np.argmax(model.predict(x), axis=-1)`,   if your model does multi-class classification   (e.g. if it uses a `softmax` last-layer activation).* `(model.predict(x) > 0.5).astype(\"int32\")`,   if your model does binary classification   (e.g. if it uses a `sigmoid` last-layer activation).\n"
     ]
    },
    {
     "name": "stdout",
     "output_type": "stream",
     "text": [
      "[5]\n",
      "혐오\n"
     ]
    }
   ],
   "source": [
    "from konlpy.tag import Okt\n",
    "okt = Okt()\n",
    "\n",
    "test_data=input()\n",
    "\n",
    "N_test = []\n",
    "temp_X = []\n",
    "temp_X = okt.morphs(test_data, stem=True) # 토큰화\n",
    "temp_X = [word for word in temp_X if not word in stopwords] # 불용어 제거\n",
    "N_test.append(temp_X)\n",
    "\n",
    "N_test = tokenizer.texts_to_sequences(N_test)\n",
    "N_test = pad_sequences(N_test, maxlen = max_len)\n",
    "\n",
    "predict_class=model.predict_classes(N_test)\n",
    "print(predict_class.T)\n",
    "\n",
    "if(predict_class.T == 0):\n",
    "    print(\"기쁨\")\n",
    "if(predict_class.T == 1):\n",
    "    print(\"슬픔\")\n",
    "if(predict_class.T == 2):\n",
    "    print(\"분노\")\n",
    "if(predict_class.T == 3):\n",
    "    print(\"놀람\")\n",
    "if(predict_class.T == 4):\n",
    "    print(\"공포\")\n",
    "if(predict_class.T == 5):\n",
    "    print(\"혐오\")"
   ]
  },
  {
   "cell_type": "code",
   "execution_count": null,
   "metadata": {},
   "outputs": [],
   "source": []
  },
  {
   "cell_type": "code",
   "execution_count": null,
   "metadata": {},
   "outputs": [],
   "source": []
  }
 ],
 "metadata": {
  "kernelspec": {
   "display_name": "Python 3 (ipykernel)",
   "language": "python",
   "name": "python3"
  },
  "language_info": {
   "codemirror_mode": {
    "name": "ipython",
    "version": 3
   },
   "file_extension": ".py",
   "mimetype": "text/x-python",
   "name": "python",
   "nbconvert_exporter": "python",
   "pygments_lexer": "ipython3",
   "version": "3.9.13"
  }
 },
 "nbformat": 4,
 "nbformat_minor": 4
}
